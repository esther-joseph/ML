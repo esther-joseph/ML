{
 "cells": [
  {
   "cell_type": "markdown",
   "metadata": {},
   "source": [
    "### Imports"
   ]
  },
  {
   "cell_type": "code",
   "execution_count": 103,
   "metadata": {
    "collapsed": true
   },
   "outputs": [],
   "source": [
    "import PIL\n",
    "import glob #allows us to access every image in folder\n",
    "import re #allows us to extract emotion from file path\n",
    "import numpy as np\n",
    "\n",
    "from PIL import Image #allows us to resize images/get their initial pixel value\n",
    "from sklearn import preprocessing #allows us to normalize our data\n",
    "\n"
   ]
  },
  {
   "cell_type": "markdown",
   "metadata": {},
   "source": [
    "# a.i\n",
    "\n",
    "### Resizing images & Converting to np array\n",
    "\n",
    "Start by seeing what the initial pixel size is, because we want to get it down to a 30x30 image"
   ]
  },
  {
   "cell_type": "code",
   "execution_count": 93,
   "metadata": {
    "collapsed": true
   },
   "outputs": [],
   "source": [
    "def get_num_pixels(filepath):\n",
    "    width, height = Image.open(filepath).size\n",
    "    return width, height"
   ]
  },
  {
   "cell_type": "code",
   "execution_count": 106,
   "metadata": {
    "collapsed": true
   },
   "outputs": [
    {
     "name": "stdout",
     "output_type": "stream",
     "text": [
      "Width:  320\n",
      "Height:  243\n"
     ]
    }
   ],
   "source": [
    "width_1_happy, height_1_happy = get_num_pixels(\"Images/subject01.happy.gif\")\n",
    "\n",
    "print(\"Width: \", width_1_happy)\n",
    "print(\"Height: \", height_1_happy)"
   ]
  },
  {
   "cell_type": "markdown",
   "metadata": {},
   "source": [
    "Now we know all images have a size of 320x243 (even when their file sizes are different)... this will NOT resize in a way that keeps the aspect ratio in tact. There is a large amount of blank space on the left of what appears to be every image, perhaps we can just shave that portion off"
   ]
  },
  {
   "cell_type": "markdown",
   "metadata": {},
   "source": [
    "#### Changing the size of the images"
   ]
  },
  {
   "cell_type": "markdown",
   "metadata": {},
   "source": [
    "Because we're unable to maintain ratios and shrink down to a 30x30 size, we're going to chop off some of the extra white space on the images widths. We're going to get each image down to 243x243 so when we shrink to 30x30 nothing gets stretched out of proportion"
   ]
  },
  {
   "cell_type": "code",
   "execution_count": 95,
   "metadata": {
    "collapsed": true
   },
   "outputs": [],
   "source": [
    "list_subjects = []\n",
    "\n",
    "for subject_num in range(1,16):\n",
    "    if subject_num < 10:\n",
    "        list_subjects.append(\"subject0\" + str(subject_num))\n",
    "    else:\n",
    "        list_subjects.append(\"subject\" + str(subject_num))\n"
   ]
  },
  {
   "cell_type": "markdown",
   "metadata": {},
   "source": [
    "This function takes in a list of people whose image needs to be cropped in a similar fashion, and the dimensions of their cropping.\n",
    "\n",
    "It then crops it into a square so it can be resized into a 30x30 shape without any warping\n",
    "\n",
    "The image is then converted into a np array of its pixel values & added to our training data set. The label for each image is also added to an array (this is in the same order as our training data)"
   ]
  },
  {
   "cell_type": "code",
   "execution_count": 111,
   "metadata": {
    "collapsed": true
   },
   "outputs": [],
   "source": [
    "def image_resize(list_subjects, left, right, top, bottom):\n",
    "    subject_labels = []\n",
    "    training_data = []\n",
    "    \n",
    "    for subject in list_subjects:\n",
    "        for image_path in glob.glob(\"Images/\" + subject + \"*\"):\n",
    "            #for each image, extract the label\n",
    "            search_string = subject + \".(.+?).gif\"\n",
    "            m = re.search(search_string, image_path)\n",
    "            if m:\n",
    "                emotion = m.group(1)\n",
    "                subject_labels.append(subject + \": \" + emotion)\n",
    "            \n",
    "            #for each image, trim off the specified edges & save to new folder\n",
    "            crop_image_path = \"Images_Cropped/\" + subject + \".\" + emotion + \".gif\"\n",
    "            orig_image = Image.open(image_path)\n",
    "            orig_image.crop((left, top, right, bottom)).save(crop_image_path)\n",
    "            \n",
    "            #for each cropped image, resize to 30x30\n",
    "            resize_image_path = \"Images_Resized/\" + subject + \".\" + emotion + \".gif\"\n",
    "            basewidth = 30\n",
    "            crop_image = Image.open(crop_image_path)\n",
    "            wpercent = (basewidth / float(crop_image.size[0]))\n",
    "            hsize = int((float(crop_image.size[1]) * float(wpercent)))\n",
    "            resize_image = crop_image.resize((basewidth, hsize), PIL.Image.ANTIALIAS)\n",
    "            resize_image.save(resize_image_path)\n",
    "            \n",
    "            #for each resized image, convert to 1x90 np array\n",
    "            image_frame = Image.open(resize_image_path)\n",
    "            np_frame = np.array(image_frame.getdata()) #gets pixel values\n",
    "            image_list = list(np_frame)\n",
    "            training_data.append(image_list)\n",
    "\n",
    "    return subject_labels, training_data \n",
    "        "
   ]
  },
  {
   "cell_type": "markdown",
   "metadata": {},
   "source": [
    "This organizes the subjects based on their cropping dimension needs. It's kind of a hack job, but it works"
   ]
  },
  {
   "cell_type": "code",
   "execution_count": 112,
   "metadata": {
    "collapsed": true
   },
   "outputs": [],
   "source": [
    "first_list = list_subjects[0:5]\n",
    "\n",
    "second_list = list_subjects[5:7]\n",
    "second_list.append(list_subjects[13])\n",
    "\n",
    "third_list = list_subjects[7:10]\n",
    "third_list.append(list_subjects[12])\n",
    "third_list.append(list_subjects[14])\n",
    "\n",
    "fourth_list = list_subjects[10:12]"
   ]
  },
  {
   "cell_type": "markdown",
   "metadata": {},
   "source": [
    "This creates an overarching list for all training data and labels, and populates it with the ouput of our image resize function"
   ]
  },
  {
   "cell_type": "code",
   "execution_count": 113,
   "metadata": {
    "collapsed": true
   },
   "outputs": [],
   "source": [
    "temp_training_data = []\n",
    "temp_labels = []\n",
    "\n",
    "first_labels, first_data = image_resize(first_list, 54, 297, 0, 243)\n",
    "temp_labels.append(first_labels)\n",
    "temp_training_data.append(first_data)\n",
    "\n",
    "second_labels, second_data = image_resize(second_list, 0, 243, 0, 243)\n",
    "temp_labels.append(second_labels)\n",
    "temp_training_data.append(second_data)\n",
    "\n",
    "third_labels, third_data = image_resize(third_list, 43, 286, 0, 243)\n",
    "temp_labels.append(third_labels)\n",
    "temp_training_data.append(third_data)\n",
    "\n",
    "fourth_labels, fourth_data = image_resize(fourth_list, 69, 312, 0, 243)\n",
    "temp_labels.append(fourth_labels)\n",
    "temp_training_data.append(fourth_data)"
   ]
  },
  {
   "cell_type": "markdown",
   "metadata": {},
   "source": [
    "Get rid of nested sublists and convert training data to np array"
   ]
  },
  {
   "cell_type": "code",
   "execution_count": 114,
   "metadata": {
    "collapsed": true
   },
   "outputs": [],
   "source": [
    "labels = []\n",
    "for sublist in temp_labels:\n",
    "    for item in sublist:\n",
    "        labels.append(item)\n",
    "\n",
    "training_data = []\n",
    "for sublist in temp_training_data:\n",
    "    for item in sublist:\n",
    "        training_data.append(item)\n",
    "\n",
    "training_data = np.array(training_data)"
   ]
  },
  {
   "cell_type": "markdown",
   "metadata": {},
   "source": [
    "Let's verify we have 165 vectors of size 1x90 for our training data\n",
    "\n",
    "And an array of size 65 for our labels"
   ]
  },
  {
   "cell_type": "code",
   "execution_count": 115,
   "metadata": {
    "collapsed": true
   },
   "outputs": [
    {
     "name": "stdout",
     "output_type": "stream",
     "text": [
      "165\n",
      "(165, 900)\n"
     ]
    }
   ],
   "source": [
    "print(len(labels))\n",
    "print(training_data.shape)"
   ]
  },
  {
   "cell_type": "markdown",
   "metadata": {},
   "source": [
    "Below shows how the image is now represented by numbers. You cannot see it here because each row is broken up in the middle, but if you copy and past the output below into a text file and give each row its own line you will see the outline of a face :)"
   ]
  },
  {
   "cell_type": "code",
   "execution_count": 117,
   "metadata": {
    "collapsed": true
   },
   "outputs": [
    {
     "name": "stdout",
     "output_type": "stream",
     "text": [
      "subject01: noglasses\n",
      "[213 213 213 213 213 213 213 213 213 213 213 213 213 213 213 213 213 213\n",
      " 213 213 213 213 213 213 213 213 213 213 213 213]\n",
      "[213 213 213 213 213 213 213 213 213 213 213 213 213 213 213 213 213 213\n",
      " 213 213 213 213 213 213 213 213 213 213 213 213]\n",
      "[213 213 213 213 213 213 213 213 213 213 213 213 213 213 213 206 198 120\n",
      "  98 113 143 213 213 213 213 213 213 213 213 213]\n",
      "[213 213 213 213 213 213 213 213 213 213 213 213 213 208 139  80  64  56\n",
      "  52  91 100 122 119 213 213 213 213 213 213 213]\n",
      "[213 213 213 213 213 213 213 213 213 213 213 178  67 101  62  69  37  39\n",
      "  81 102 105  89  78  91 213 213 213 213 213 213]\n",
      "[213 213 213 213 213 213 213 213 213 213 104 120  74  74  60  66  50  30\n",
      "  62  98 113  79  79 101  76 173 213 213 213 213]\n",
      "[213 213 213 213 213 213 213 213 213 119 126 139 104  79  88 153 111  27\n",
      "  31  83  89 110  78  71  76  70 191 213 213 213]\n",
      "[213 213 213 213 213 213 213 213 129 101  84  56  80 147 144 101 112  72\n",
      "  41  65  86  92  81  78  59  49  70 213 213 213]\n",
      "[213 213 213 213 213 213 213 213  84 105  69  57 118 156 137 127 114 126\n",
      "  78  69  84 101  72  46  51  59  57 138 213 213]\n",
      "[213 213 213 213 213 213 213 104  70  67  48  69 146 153 141 123 101  85\n",
      "  91 105  71  74  86  62  62  59  53  87 213 213]\n",
      "[213 213 213 213 213 213 213 144  36  35  54 107 152 167 146 115  93  93\n",
      "  96 105  80  71  69  72  36  38  50  65 213 213]\n",
      "[213 213 213 213 213 213 213 212  25  38  68  82 157 165 167 113 108  85\n",
      " 116 109 120  88  71  61  41  29  34  52 213 213]\n",
      "[213 213 213 213 213 213 213 213  50  40  39  85 165 179 168  84  95 103\n",
      " 133 126 102 111  89  73  18  22  43  57 213 213]\n",
      "[213 213 213 213 213 213 213 213  63  30  26 119 175 153 117  91 102 104\n",
      " 110 124 119 128 130 103  14  21  31  59 213 213]\n",
      "[213 213 213 213 213 213 213 213  49  32  16 135  98  63  29  20  57 108\n",
      " 118  55  21  25  57  92  49   7  20  61 213 213]\n",
      "[213 213 213 213 213 213 213 213  88  46  27 146  77  72  22  40  69 185\n",
      " 192  44  47   9  34  56  92   8  16  42 213 213]\n",
      "[213 213 213 213 213 213 213 213 124  58 119 176 170 157 170 155 181 188\n",
      " 170 164 133 113 103 128 129  12  34 102 213 213]\n",
      "[213 213 213 213 213 213 213 213 213 101 154 184 213 213 213 213 173 187\n",
      " 169 150 204 192 198 175 144  34  79 213 213 213]\n",
      "[213 213 213 213 213 213 213 213 213 151 158 145 166 211 213 213 159 193\n",
      " 208 144 190 213 183 140 123  96 191 213 213 213]\n",
      "[213 213 213 213 213 213 213 213 213 144 142 136 152 192 213 191  94  84\n",
      "  76  86 177 191 147 122 114  93 213 213 213 213]\n",
      "[213 213 213 213 213 213 213 213 213 213 137 135 146 170 199 162 124  88\n",
      "  72 108 151 167 133 116 109 126 213 213 185 213]\n",
      "[213 213 213 213 213 213 213 213 213 213  72 131 151 179 178 162 160 172\n",
      " 181 147 130 150 147 117 111  85 213 213 213 213]\n",
      "[213 213 213 213 213 213 213 213 213 148 179 136 134 166 146  67  38  40\n",
      "  37  44  66 125 140 114 105 213 213 213 213 213]\n",
      "[213 213 213 213 213 213 213 213 213 213 213 130 134 159 127 147 140  88\n",
      "  74 110 125 101 118 111 110 213 213 213 213 213]\n",
      "[213 213 213 213 213 213 213 213 213 213 213 109 128 128 119 107  94  80\n",
      "  84  88 101 103  98 103 136 199 213 213 213 213]\n",
      "[213 213 213 213 213 213 213 213 213 213 213 140 120 125 121 136 182 210\n",
      " 212 187 115 102 100  97 204 213 213 213 213 213]\n",
      "[213 213 213 213 213 213 213 213 213 213 213 190 118  90 111 154 155 156\n",
      " 139 151 130  96  76 149 213 213 213 211 213 213]\n",
      "[213 213 213 213 213 213 213 213 213 213 213 172 139  73  71  78  72  77\n",
      "  98  68  69  58  62 182 213 213 206 213 213 213]\n",
      "[213 213 213 213 213 213 213 213 213 213 161 173 146 122  71  67  61  59\n",
      "  56  57  58  54  85 146 213 213 213 213 213 213]\n",
      "[213 213 213 213 213 213 213 213 213 204 125 157 147 137 106  70  62  62\n",
      "  59  53  51  66 103 128 213 213 200 213 213 194]\n"
     ]
    }
   ],
   "source": [
    "print(str(labels[2])) #Prints letter being shown\n",
    "#Reshape image to be 14x9, then loop through each new row to print\n",
    "for row in training_data[2].reshape(30, 30):\n",
    "    print(row)"
   ]
  },
  {
   "cell_type": "markdown",
   "metadata": {},
   "source": [
    "### Normalized Training Data"
   ]
  },
  {
   "cell_type": "markdown",
   "metadata": {},
   "source": [
    "Converts values to the range of 0:1"
   ]
  },
  {
   "cell_type": "code",
   "execution_count": 104,
   "metadata": {
    "collapsed": true
   },
   "outputs": [],
   "source": [
    "normalized_training_data = preprocessing.normalize(training_data)"
   ]
  },
  {
   "cell_type": "code",
   "execution_count": 2,
   "metadata": {},
   "outputs": [
    {
     "name": "stdout",
     "output_type": "stream",
     "text": [
      "\n",
      "\n",
      "The following eigenvectors: \n",
      " \n",
      " [[-1.45118580e-04  1.03429787e-02 -8.17339607e-03 ...  0.00000000e+00\n",
      "   0.00000000e+00  0.00000000e+00]\n",
      " [-3.37995011e-04  1.09541128e-02 -7.45780260e-03 ... -6.10897680e-01\n",
      "   2.85490271e-02 -6.05197814e-02]\n",
      " [ 2.39290823e-04  1.02397754e-02 -7.30160889e-03 ...  1.55159988e-01\n",
      "  -5.78622232e-01 -1.46022798e-01]\n",
      " ...\n",
      " [ 3.63209264e-02 -5.87072071e-02  1.50103429e-02 ...  3.03765716e-02\n",
      "  -3.37894610e-02 -7.79432065e-03]\n",
      " [ 3.63595230e-02 -6.42387964e-02  9.26253333e-03 ... -4.79739417e-02\n",
      "  -2.52956379e-02 -2.72502280e-02]\n",
      " [ 3.78813071e-02 -5.60804723e-02 -3.47655738e-04 ...  6.34700386e-03\n",
      "   2.68677852e-02 -2.17978150e-02]]\n",
      "\n",
      "\n",
      "The following eigenvalues: \n",
      " \n",
      " [-1.01890105e-17 -5.62337172e-18 -3.93469296e-18 -3.08920239e-18\n",
      " -2.68114657e-18 -2.54426988e-18 -2.51207510e-18 -2.25598357e-18\n",
      " -2.02201394e-18 -1.72729477e-18 -1.66333384e-18 -1.64152804e-18\n",
      " -1.50716215e-18 -1.50635011e-18 -1.41677941e-18 -1.41240809e-18\n",
      " -1.40085131e-18 -1.37474751e-18 -1.36412344e-18 -1.35082994e-18\n",
      " -1.34448733e-18 -1.29850822e-18 -1.28669739e-18 -1.28650908e-18\n",
      " -1.24055112e-18 -1.22941370e-18 -1.22507187e-18 -1.21287613e-18\n",
      " -1.20297171e-18 -1.20271025e-18 -1.15858827e-18 -1.14781405e-18\n",
      " -1.14459416e-18 -1.14031193e-18 -1.13713666e-18 -1.10098697e-18\n",
      " -1.08058967e-18 -1.05264132e-18 -1.05113782e-18 -1.04569314e-18\n",
      " -1.03982691e-18 -1.02374637e-18 -1.01824122e-18 -1.01404971e-18\n",
      " -1.01315072e-18 -1.00352522e-18 -1.00169504e-18 -9.81751697e-19\n",
      " -9.56446469e-19 -9.55008723e-19 -9.46723886e-19 -9.43715654e-19\n",
      " -9.28055909e-19 -9.26440010e-19 -9.24265533e-19 -9.23899717e-19\n",
      " -9.22227009e-19 -9.06633482e-19 -9.01880932e-19 -8.72767322e-19\n",
      " -8.66245239e-19 -8.60860084e-19 -8.52376663e-19 -8.46682895e-19\n",
      " -8.38494172e-19 -8.30898690e-19 -8.30180136e-19 -7.96662241e-19\n",
      " -7.95446528e-19 -7.93869071e-19 -7.93722410e-19 -7.83789813e-19\n",
      " -7.83730678e-19 -7.82136772e-19 -7.74715251e-19 -7.68276457e-19\n",
      " -7.67567662e-19 -7.61961553e-19 -7.54255594e-19 -7.48291293e-19\n",
      " -7.39975644e-19 -7.20462611e-19 -7.20130855e-19 -7.17294036e-19\n",
      " -7.16730999e-19 -7.12253245e-19 -7.10583917e-19 -7.06571386e-19\n",
      " -7.03785200e-19 -6.90684237e-19 -6.90080175e-19 -6.80183035e-19\n",
      " -6.62124271e-19 -6.61802570e-19 -6.59933526e-19 -6.48975273e-19\n",
      " -6.47269026e-19 -6.45604526e-19 -6.41000288e-19 -6.40260003e-19\n",
      " -6.39037714e-19 -6.36736431e-19 -6.29282435e-19 -6.24961695e-19\n",
      " -6.24735540e-19 -6.15763974e-19 -5.98189623e-19 -5.94860083e-19\n",
      " -5.94160001e-19 -5.88703321e-19 -5.87742353e-19 -5.84142240e-19\n",
      " -5.84113331e-19 -5.78690260e-19 -5.75227470e-19 -5.67825580e-19\n",
      " -5.64148584e-19 -5.63800981e-19 -5.49805910e-19 -5.44831882e-19\n",
      " -5.43128630e-19 -5.42470366e-19 -5.39484074e-19 -5.30412721e-19\n",
      " -5.29334963e-19 -5.28416799e-19 -5.23193192e-19 -5.17688333e-19\n",
      " -5.15659037e-19 -5.14119742e-19 -5.09117111e-19 -5.02693550e-19\n",
      " -5.00236993e-19 -4.89972569e-19 -4.82325614e-19 -4.79272502e-19\n",
      " -4.77995101e-19 -4.71832946e-19 -4.71404554e-19 -4.68157475e-19\n",
      " -4.62525567e-19 -4.60527562e-19 -4.59126602e-19 -4.58561236e-19\n",
      " -4.55656137e-19 -4.48295566e-19 -4.43489538e-19 -4.42529151e-19\n",
      " -4.41497933e-19 -4.40240187e-19 -4.38032377e-19 -4.37769036e-19\n",
      " -4.33041463e-19 -4.28106460e-19 -4.25225245e-19 -4.21354660e-19\n",
      " -4.20943263e-19 -4.19223415e-19 -4.13653756e-19 -4.10916076e-19\n",
      " -4.10032370e-19 -4.04061565e-19 -4.04055596e-19 -3.98254895e-19\n",
      " -3.97588815e-19 -3.97130201e-19 -3.96236430e-19 -3.89577073e-19\n",
      " -3.88253175e-19 -3.87687063e-19 -3.81486772e-19 -3.81062579e-19\n",
      " -3.76027812e-19 -3.74023842e-19 -3.73922101e-19 -3.73881693e-19\n",
      " -3.73341798e-19 -3.63869265e-19 -3.63757836e-19 -3.60759606e-19\n",
      " -3.50334308e-19 -3.49821551e-19 -3.45400836e-19 -3.43589283e-19\n",
      " -3.43198273e-19 -3.41732005e-19 -3.40127364e-19 -3.40011789e-19\n",
      " -3.37160584e-19 -3.36777448e-19 -3.35607207e-19 -3.34597158e-19\n",
      " -3.29693120e-19 -3.26194558e-19 -3.21061052e-19 -3.18197586e-19\n",
      " -3.13616002e-19 -3.12373449e-19 -3.11689311e-19 -3.09943311e-19\n",
      " -3.09136045e-19 -3.08107766e-19 -3.04346993e-19 -3.00864599e-19\n",
      " -2.95112299e-19 -2.93985903e-19 -2.86549508e-19 -2.84821095e-19\n",
      " -2.84188081e-19 -2.82848687e-19 -2.81299295e-19 -2.78622276e-19\n",
      " -2.75983837e-19 -2.74944296e-19 -2.74322804e-19 -2.73792762e-19\n",
      " -2.73207736e-19 -2.72780965e-19 -2.71526165e-19 -2.71272485e-19\n",
      " -2.68351911e-19 -2.66768949e-19 -2.64464763e-19 -2.61158465e-19\n",
      " -2.58105230e-19 -2.58003325e-19 -2.56554393e-19 -2.51950862e-19\n",
      " -2.50858216e-19 -2.50659343e-19 -2.47303954e-19 -2.45040539e-19\n",
      " -2.44894825e-19 -2.44332497e-19 -2.44211185e-19 -2.40573537e-19\n",
      " -2.39127654e-19 -2.35384586e-19 -2.33177453e-19 -2.31691494e-19\n",
      " -2.29466868e-19 -2.27745167e-19 -2.25384349e-19 -2.25325388e-19\n",
      " -2.25278892e-19 -2.24229324e-19 -2.22351268e-19 -2.16799079e-19\n",
      " -2.13002047e-19 -2.11752927e-19 -2.10593474e-19 -2.09972219e-19\n",
      " -2.04712706e-19 -2.03335799e-19 -2.02491905e-19 -2.01085574e-19\n",
      " -1.97779040e-19 -1.97122211e-19 -1.94934940e-19 -1.93603803e-19\n",
      " -1.92797045e-19 -1.92303159e-19 -1.91526137e-19 -1.88903870e-19\n",
      " -1.88021110e-19 -1.87214575e-19 -1.86949103e-19 -1.81152484e-19\n",
      " -1.78883660e-19 -1.77902884e-19 -1.76244891e-19 -1.75841357e-19\n",
      " -1.75547047e-19 -1.74491089e-19 -1.74121096e-19 -1.68808125e-19\n",
      " -1.68583322e-19 -1.68188555e-19 -1.66070386e-19 -1.64437573e-19\n",
      " -1.62286100e-19 -1.61304080e-19 -1.58387061e-19 -1.55623102e-19\n",
      " -1.55251508e-19 -1.51780601e-19 -1.51771167e-19 -1.48195110e-19\n",
      " -1.47608039e-19 -1.47462649e-19 -1.41425239e-19 -1.39431631e-19\n",
      " -1.37901214e-19 -1.36743194e-19 -1.35413240e-19 -1.35239139e-19\n",
      " -1.34791401e-19 -1.33920616e-19 -1.33455522e-19 -1.33438710e-19\n",
      " -1.29797417e-19 -1.28391720e-19 -1.28335596e-19 -1.27765843e-19\n",
      " -1.26238061e-19 -1.21080621e-19 -1.19271968e-19 -1.18460214e-19\n",
      " -1.16907455e-19 -1.15682748e-19 -1.13197469e-19 -1.12714073e-19\n",
      " -1.12690121e-19 -1.11627908e-19 -1.10042094e-19 -1.06499514e-19\n",
      " -1.03236797e-19 -1.03085049e-19 -1.02476850e-19 -1.00483652e-19\n",
      " -9.74096030e-20 -9.53270933e-20 -9.38094492e-20 -9.25131659e-20\n",
      " -9.19383538e-20 -9.19294822e-20 -9.14533197e-20 -9.06267376e-20\n",
      " -9.03852918e-20 -9.03100199e-20 -8.83750453e-20 -8.58138753e-20\n",
      " -8.57516431e-20 -8.38955140e-20 -8.27768373e-20 -8.25736453e-20\n",
      " -8.14088385e-20 -7.77336814e-20 -7.44509841e-20 -7.34325672e-20\n",
      " -7.29463520e-20 -7.08448523e-20 -7.06500320e-20 -7.05078430e-20\n",
      " -7.04844417e-20 -6.90892170e-20 -6.53833302e-20 -6.32038958e-20\n",
      " -6.11440274e-20 -6.11400730e-20 -5.94659430e-20 -5.86679203e-20\n",
      " -5.63805330e-20 -5.52029430e-20 -4.90200493e-20 -4.87148362e-20\n",
      " -4.62914103e-20 -4.40872019e-20 -4.32779789e-20 -3.95074807e-20\n",
      " -3.89025590e-20 -3.74796750e-20 -3.47123743e-20 -3.45824134e-20\n",
      " -3.27160884e-20 -3.24386527e-20 -3.12223809e-20 -2.99924350e-20\n",
      " -2.68909777e-20 -2.46957500e-20 -2.13777098e-20 -2.02941633e-20\n",
      " -1.70909670e-20 -1.33000050e-20 -1.03873751e-20 -8.96110876e-21\n",
      " -8.28741181e-21 -7.85416801e-21 -7.30620184e-21 -6.35042887e-21\n",
      " -5.70019404e-21 -5.25233552e-21 -5.14740990e-21 -3.65427307e-21\n",
      " -3.44713764e-21 -3.33980871e-21 -3.17414853e-21 -2.70711018e-21\n",
      " -2.59346789e-21 -2.38063547e-21 -1.72896877e-21 -1.05471193e-21\n",
      " -9.71588847e-22  2.12334500e-22  3.46670823e-22  7.69109016e-22\n",
      "  1.25863112e-21  1.36017219e-21  1.44664549e-21  1.85865794e-21\n",
      "  2.60127084e-21  2.93347456e-21  3.79934202e-21  4.35060441e-21\n",
      "  4.78141684e-21  4.84990031e-21  5.19359240e-21  5.37753854e-21\n",
      "  5.55521664e-21  6.41277630e-21  7.47559923e-21  7.49390454e-21\n",
      "  7.82889013e-21  8.42843236e-21  9.27114219e-21  9.63773076e-21\n",
      "  1.13994805e-20  1.20444675e-20  1.47814154e-20  1.54598642e-20\n",
      "  1.75649220e-20  1.94658530e-20  2.02379485e-20  2.12368129e-20\n",
      "  2.31479558e-20  2.32011452e-20  2.36670525e-20  2.98993357e-20\n",
      "  3.22485391e-20  3.36415588e-20  3.42651691e-20  3.66593500e-20\n",
      "  3.72224034e-20  3.75170728e-20  3.75716841e-20  4.16603219e-20\n",
      "  4.52275862e-20  4.61265567e-20  4.64925545e-20  5.06433537e-20\n",
      "  5.15468082e-20  5.28689949e-20  5.78072278e-20  5.78579999e-20\n",
      "  6.11013419e-20  6.21213545e-20  6.25657852e-20  6.41245795e-20\n",
      "  6.42592601e-20  6.67679865e-20  7.20183346e-20  7.38192665e-20\n",
      "  7.47517243e-20  7.58548799e-20  7.60222820e-20  7.69488225e-20\n",
      "  7.88850439e-20  8.03075347e-20  8.50985000e-20  8.82392604e-20\n",
      "  9.14889783e-20  9.14987665e-20  9.38766481e-20  9.46093903e-20\n",
      "  9.74752749e-20  9.86259755e-20  9.98085745e-20  1.00945321e-19\n",
      "  1.01501208e-19  1.03262737e-19  1.04356635e-19  1.04451679e-19\n",
      "  1.05490991e-19  1.07187697e-19  1.09732190e-19  1.10093074e-19\n",
      "  1.10817446e-19  1.10993237e-19  1.11680823e-19  1.12320025e-19\n",
      "  1.14024005e-19  1.15238519e-19  1.15254582e-19  1.18569487e-19\n",
      "  1.22523262e-19  1.23426781e-19  1.25542217e-19  1.27654609e-19\n",
      "  1.28586764e-19  1.28818200e-19  1.29184129e-19  1.34097972e-19\n",
      "  1.38968053e-19  1.39273354e-19  1.40415389e-19  1.40778055e-19\n",
      "  1.41289968e-19  1.43434108e-19  1.44471359e-19  1.48020063e-19\n",
      "  1.49401105e-19  1.50826139e-19  1.52932813e-19  1.54174528e-19\n",
      "  1.58958450e-19  1.62471697e-19  1.63795341e-19  1.67645220e-19\n",
      "  1.69124409e-19  1.69375759e-19  1.73205676e-19  1.73741970e-19\n",
      "  1.73848069e-19  1.74606414e-19  1.74725863e-19  1.75673361e-19\n",
      "  1.76772355e-19  1.79523923e-19  1.85800037e-19  1.86644771e-19\n",
      "  1.89663912e-19  1.94073804e-19  1.95876456e-19  1.96652527e-19\n",
      "  1.98684272e-19  1.98762231e-19  2.01222680e-19  2.01573783e-19\n",
      "  2.05703733e-19  2.06017040e-19  2.06073749e-19  2.06264856e-19\n",
      "  2.08176838e-19  2.09446814e-19  2.10011380e-19  2.14458876e-19\n",
      "  2.15664923e-19  2.20085310e-19  2.20234780e-19  2.21040409e-19\n",
      "  2.22140892e-19  2.23039084e-19  2.24712639e-19  2.25351531e-19\n",
      "  2.25379603e-19  2.25983124e-19  2.29503769e-19  2.34101778e-19\n",
      "  2.37644647e-19  2.39295590e-19  2.42113656e-19  2.42451432e-19\n",
      "  2.44128533e-19  2.46736329e-19  2.50248720e-19  2.52511656e-19\n",
      "  2.54197792e-19  2.57386059e-19  2.57950523e-19  2.61409062e-19\n",
      "  2.69345994e-19  2.69543306e-19  2.71212914e-19  2.72929986e-19\n",
      "  2.74298569e-19  2.75270245e-19  2.77473177e-19  2.82272785e-19\n",
      "  2.82372143e-19  2.82599799e-19  2.88615684e-19  2.92422583e-19\n",
      "  2.92800470e-19  2.96217751e-19  2.97760258e-19  3.00191799e-19\n",
      "  3.04036701e-19  3.04392942e-19  3.07922542e-19  3.09027261e-19\n",
      "  3.09561382e-19  3.10971343e-19  3.13094135e-19  3.17909947e-19\n",
      "  3.18404045e-19  3.32016852e-19  3.35464086e-19  3.35872588e-19\n",
      "  3.36565905e-19  3.39551589e-19  3.41693045e-19  3.42958714e-19\n",
      "  3.43385885e-19  3.45637566e-19  3.48454174e-19  3.49344099e-19\n",
      "  3.49754020e-19  3.57909599e-19  3.70710031e-19  3.72010874e-19\n",
      "  3.75514562e-19  3.79903928e-19  3.81672747e-19  3.82298849e-19\n",
      "  3.82325933e-19  3.84236192e-19  3.87461125e-19  3.90317624e-19\n",
      "  3.90852677e-19  3.92801997e-19  3.96004360e-19  4.09606434e-19\n",
      "  4.10507810e-19  4.13942941e-19  4.16197065e-19  4.20109877e-19\n",
      "  4.20552503e-19  4.26941264e-19  4.26952657e-19  4.32742537e-19\n",
      "  4.34320438e-19  4.34752748e-19  4.37442621e-19  4.42721942e-19\n",
      "  4.44512040e-19  4.51079122e-19  4.52842314e-19  4.54138462e-19\n",
      "  4.61536550e-19  4.64460970e-19  4.68662079e-19  4.72900001e-19\n",
      "  4.74493293e-19  4.77849680e-19  4.78434761e-19  4.83900387e-19\n",
      "  4.84261698e-19  4.98226253e-19  4.99517060e-19  5.01093836e-19\n",
      "  5.06595245e-19  5.09424272e-19  5.14909775e-19  5.15051356e-19\n",
      "  5.18993862e-19  5.33101802e-19  5.36910767e-19  5.42173590e-19\n",
      "  5.43944559e-19  5.45795514e-19  5.48371431e-19  5.58527966e-19\n",
      "  5.58585704e-19  5.64928286e-19  5.66211080e-19  5.71448365e-19\n",
      "  5.76613847e-19  5.79552194e-19  5.79908411e-19  5.84195969e-19\n",
      "  5.94959523e-19  5.97656975e-19  6.18694307e-19  6.23922363e-19\n",
      "  6.24251447e-19  6.25024812e-19  6.29281020e-19  6.39606544e-19\n",
      "  6.49310344e-19  6.62928282e-19  6.64873368e-19  6.65732477e-19\n",
      "  6.82429125e-19  6.83870739e-19  6.88875077e-19  6.94643680e-19\n",
      "  7.05064536e-19  7.13133936e-19  7.19963106e-19  7.21819938e-19\n",
      "  7.27007136e-19  7.28740490e-19  7.32130283e-19  7.64153887e-19\n",
      "  7.72998689e-19  7.79180882e-19  7.81638926e-19  7.83445672e-19\n",
      "  7.87372467e-19  7.89520795e-19  8.10703409e-19  8.16078740e-19\n",
      "  8.17166472e-19  8.33838803e-19  8.47830338e-19  8.51498912e-19\n",
      "  8.84647816e-19  8.87002702e-19  8.92166716e-19  8.95106210e-19\n",
      "  9.06219360e-19  9.13763797e-19  9.19108515e-19  9.40829087e-19\n",
      "  9.74143490e-19  9.89237544e-19  9.95790931e-19  9.97110326e-19\n",
      "  1.00624271e-18  1.00862449e-18  1.02016299e-18  1.02290043e-18\n",
      "  1.02402304e-18  1.03844674e-18  1.05062401e-18  1.06996615e-18\n",
      "  1.07445975e-18  1.08356128e-18  1.13499832e-18  1.13746728e-18\n",
      "  1.15128516e-18  1.19317480e-18  1.20807507e-18  1.21791898e-18\n",
      "  1.23861835e-18  1.27226421e-18  1.28157622e-18  1.31863448e-18\n",
      "  1.35106561e-18  1.37818129e-18  1.41451153e-18  1.46015148e-18\n",
      "  1.53763355e-18  1.54970895e-18  1.61007976e-18  1.63147216e-18\n",
      "  1.67392515e-18  1.68372572e-18  1.95888528e-18  2.20625914e-18\n",
      "  2.91831821e-18  3.10030537e-18  4.06850943e-18  4.68109756e-18\n",
      "  6.85258152e-18  2.72152625e-06  3.64760178e-06  6.39165737e-06\n",
      "  6.56911335e-06  8.07166428e-06  9.75079948e-06  1.03962355e-05\n",
      "  1.13664266e-05  1.33000567e-05  1.40378194e-05  1.51702845e-05\n",
      "  1.56012302e-05  1.58958667e-05  1.63868630e-05  1.80008012e-05\n",
      "  1.84463866e-05  1.86154366e-05  1.92757825e-05  2.06528763e-05\n",
      "  2.07098346e-05  2.23268936e-05  2.30862878e-05  2.33265235e-05\n",
      "  2.48015119e-05  2.60392522e-05  2.68562903e-05  2.75416322e-05\n",
      "  2.79910757e-05  2.84367655e-05  2.94356388e-05  2.96983983e-05\n",
      "  3.19410989e-05  3.26149803e-05  3.40154631e-05  3.52704815e-05\n",
      "  3.57900041e-05  3.65822839e-05  3.87289491e-05  3.93316440e-05\n",
      "  4.06978393e-05  4.13812927e-05  4.26176598e-05  4.40786464e-05\n",
      "  4.43393235e-05  4.54403256e-05  4.58594870e-05  4.79030047e-05\n",
      "  4.94523068e-05  5.02032607e-05  5.24483961e-05  5.36893501e-05\n",
      "  5.45075341e-05  5.57382490e-05  5.78298438e-05  5.87120235e-05\n",
      "  5.98471378e-05  6.24629196e-05  6.30742644e-05  6.34299806e-05\n",
      "  6.48632902e-05  6.53804801e-05  6.78025335e-05  6.92526702e-05\n",
      "  7.04222916e-05  7.39613193e-05  7.56214004e-05  7.66866690e-05\n",
      "  7.91542855e-05  8.08853046e-05  8.41724103e-05  8.57932815e-05\n",
      "  8.89124549e-05  8.96120780e-05  9.13148813e-05  9.59302039e-05\n",
      "  9.73575669e-05  1.00273981e-04  1.03164172e-04  1.03934551e-04\n",
      "  1.05392713e-04  1.11393641e-04  1.13024739e-04  1.13791124e-04\n",
      "  1.17561957e-04  1.25103693e-04  1.25862854e-04  1.28669165e-04\n",
      "  1.30798356e-04  1.38016754e-04  1.40001987e-04  1.43121971e-04\n",
      "  1.50061130e-04  1.50946702e-04  1.60155969e-04  1.63959398e-04\n",
      "  1.67136900e-04  1.69013399e-04  1.74050940e-04  1.80129876e-04\n",
      "  1.83400954e-04  1.89534352e-04  1.90428377e-04  2.04263501e-04\n",
      "  2.06785786e-04  2.07611777e-04  2.14970864e-04  2.23976805e-04\n",
      "  2.33203193e-04  2.39762643e-04  2.49176355e-04  2.50687647e-04\n",
      "  2.58941986e-04  2.68973785e-04  2.79581838e-04  2.86313291e-04\n",
      "  2.95185991e-04  3.00036077e-04  3.21216399e-04  3.34941864e-04\n",
      "  3.37628548e-04  3.58739252e-04  3.68929408e-04  3.80088546e-04\n",
      "  3.90644843e-04  4.25164218e-04  4.42817197e-04  4.48564246e-04\n",
      "  4.78087910e-04  5.29873593e-04  5.47699546e-04  5.85504925e-04\n",
      "  6.53391620e-04  6.93053416e-04  7.13235326e-04  8.53498461e-04\n",
      "  9.20091237e-04  9.36163165e-04  1.01730765e-03  1.09588511e-03\n",
      "  1.23954797e-03  1.28670558e-03  1.44331410e-03  1.69608252e-03\n",
      "  1.85861379e-03  2.17547924e-03  2.60814842e-03  3.00195741e-03\n",
      "  3.33518559e-03  3.70980018e-03  4.93394611e-03  5.48990313e-03\n",
      "  8.21425726e-03  1.02087325e-02  1.26574618e-02  3.71281874e-02]\n"
     ]
    },
    {
     "data": {
      "text/plain": [
       "[<matplotlib.lines.Line2D at 0x250f7627be0>]"
      ]
     },
     "execution_count": 2,
     "metadata": {},
     "output_type": "execute_result"
    }
   ],
   "source": [
    "#(a.ii) (1 point) Implement PCA on the input images. Assume that the input vector of PCA\n",
    "#contains all rows of an image superimposed one after the other. You can use available libraries\n",
    "#that calculate the eigenvalues and eigenvectors of a matrix. Hint: Don’t forget to normalize the\n",
    "#data.\n",
    "\n",
    "\n",
    "import PIL\n",
    "import glob #allows us to access every image in folder\n",
    "import re #allows us to extract emotion from file path\n",
    "import numpy as np\n",
    "\n",
    "from PIL import Image #allows us to resize images/get their initial pixel value\n",
    "from sklearn import preprocessing #allows us to normalize our data\n",
    "\n",
    "\n",
    "import matplotlib.pyplot as plt\n",
    "import pandas as pd\n",
    "from sklearn import decomposition\n",
    "from sklearn.preprocessing import scale\n",
    "from sklearn.decomposition import PCA\n",
    "import seaborn as sb\n",
    "\n",
    "\n",
    "def get_num_pixels(filepath):\n",
    "    width, height = Image.open(filepath).size\n",
    "    return width, height\n",
    "\n",
    "width_1_happy, height_1_happy = get_num_pixels(\"Images/subject01.happy.gif\")\n",
    "\n",
    "list_subjects = []\n",
    "\n",
    "for subject_num in range(1,16):\n",
    "    if subject_num < 10:\n",
    "        list_subjects.append(\"subject0\" + str(subject_num))\n",
    "    else:\n",
    "        list_subjects.append(\"subject\" + str(subject_num))\n",
    "        \n",
    "        \n",
    "def image_resize(list_subjects, left, right, top, bottom):\n",
    "    subject_labels = []\n",
    "    training_data = []\n",
    "    \n",
    "    for subject in list_subjects:\n",
    "        for image_path in glob.glob(\"Images/\" + subject + \"*\"):\n",
    "            #for each image, extract the label\n",
    "            search_string = subject + \".(.+?).gif\"\n",
    "            m = re.search(search_string, image_path)\n",
    "            if m:\n",
    "                emotion = m.group(1)\n",
    "                subject_labels.append(subject + \": \" + emotion)\n",
    "            \n",
    "            #for each image, trim off the specified edges & save to new folder\n",
    "            crop_image_path = \"Images_Cropped/\" + subject + \".\" + emotion + \".gif\"\n",
    "            orig_image = Image.open(image_path)\n",
    "            orig_image.crop((left, top, right, bottom)).save(crop_image_path)\n",
    "            \n",
    "            #for each cropped image, resize to 30x30\n",
    "            resize_image_path = \"Images_Resized/\" + subject + \".\" + emotion + \".gif\"\n",
    "            basewidth = 30\n",
    "            crop_image = Image.open(crop_image_path)\n",
    "            wpercent = (basewidth / float(crop_image.size[0]))\n",
    "            hsize = int((float(crop_image.size[1]) * float(wpercent)))\n",
    "            resize_image = crop_image.resize((basewidth, hsize), PIL.Image.ANTIALIAS)\n",
    "            resize_image.save(resize_image_path)\n",
    "            \n",
    "            #for each resized image, convert to 1x90 np array\n",
    "            image_frame = Image.open(resize_image_path)\n",
    "            np_frame = np.array(image_frame.getdata()) #gets pixel values\n",
    "            image_list = list(np_frame)\n",
    "            training_data.append(image_list)\n",
    "\n",
    "    return subject_labels, training_data \n",
    "\n",
    "first_list = list_subjects[0:5]\n",
    "\n",
    "second_list = list_subjects[5:7]\n",
    "second_list.append(list_subjects[13])\n",
    "\n",
    "third_list = list_subjects[7:10]\n",
    "third_list.append(list_subjects[12])\n",
    "third_list.append(list_subjects[14])\n",
    "\n",
    "fourth_list = list_subjects[10:12]\n",
    "\n",
    "temp_training_data = []\n",
    "temp_labels = []\n",
    "\n",
    "first_labels, first_data = image_resize(first_list, 54, 297, 0, 243)\n",
    "temp_labels.append(first_labels)\n",
    "temp_training_data.append(first_data)\n",
    "\n",
    "second_labels, second_data = image_resize(second_list, 0, 243, 0, 243)\n",
    "temp_labels.append(second_labels)\n",
    "temp_training_data.append(second_data)\n",
    "\n",
    "third_labels, third_data = image_resize(third_list, 43, 286, 0, 243)\n",
    "temp_labels.append(third_labels)\n",
    "temp_training_data.append(third_data)\n",
    "\n",
    "fourth_labels, fourth_data = image_resize(fourth_list, 69, 312, 0, 243)\n",
    "temp_labels.append(fourth_labels)\n",
    "temp_training_data.append(fourth_data)\n",
    "\n",
    "labels = []\n",
    "for sublist in temp_labels:\n",
    "    for item in sublist:\n",
    "        labels.append(item)\n",
    "\n",
    "training_data = []\n",
    "for sublist in temp_training_data:\n",
    "    for item in sublist:\n",
    "        training_data.append(item)\n",
    "\n",
    "training_data = np.array(training_data)\n",
    "\n",
    "normalized_training_data = preprocessing.normalize(training_data)\n",
    "\n",
    "n_samples = normalized_training_data.shape[0]\n",
    "n_features = normalized_training_data.shape[1]\n",
    "n_components = min(n_samples, n_features)\n",
    "\n",
    "covar_matrix = PCA(n_components)\n",
    "covar_matrix.fit(normalized_training_data)\n",
    "variance = covar_matrix.explained_variance_ratio_ #calculate variance ratios\n",
    "#print(variance)\n",
    "\n",
    "var=np.cumsum(np.round(covar_matrix.explained_variance_ratio_, decimals=3)*100)\n",
    "#var #cumulative sum of variance explained with [n] features\n",
    "#print(\"The following eigenvalues: \\n \\n\" , var)\n",
    "\n",
    "\n",
    "cov_mat=np.cov(normalized_training_data, rowvar=False)\n",
    "evals, evecs = np.linalg.eigh(cov_mat)\n",
    "idx = np.argsort(evals)[::-1]\n",
    "evecs = evecs[:,idx]\n",
    "print(\"\\n\\nThe following eigenvectors: \\n \\n\" , evecs)\n",
    "print(\"\\n\\nThe following eigenvalues: \\n \\n\" , evals)\n",
    "\n",
    "plt.ylabel('% Variance Explained')\n",
    "plt.xlabel('Components')\n",
    "plt.title('PCA Analysis')\n",
    "plt.ylim(30,100.5)\n",
    "\n",
    "plt.plot(evals)"
   ]
  },
  {
   "cell_type": "code",
   "execution_count": 44,
   "metadata": {},
   "outputs": [
    {
     "name": "stdout",
     "output_type": "stream",
     "text": [
      "The number of components we need to capture 99% of the energy is 165\n"
     ]
    },
    {
     "data": {
      "image/png": "[encoded data removed]",
      "text/plain": [
       "<Figure size 432x288 with 1 Axes>"
      ]
     },
     "metadata": {
      "needs_background": "light"
     },
     "output_type": "display_data"
    }
   ],
   "source": [
    "#(a.iii) (0.5 points) Plot a curve displaying the first k eigenvalues λ1, . . . , λK, i.e. the energy\n",
    "#of the first K principal components. How many components do we need to capture 99% of the\n",
    "#energy?\n",
    "\n",
    "import PIL\n",
    "import glob #allows us to access every image in folder\n",
    "import re #allows us to extract emotion from file path\n",
    "import numpy as np\n",
    "\n",
    "from PIL import Image #allows us to resize images/get their initial pixel value\n",
    "from sklearn import preprocessing #allows us to normalize our data\n",
    "\n",
    "\n",
    "import matplotlib.pyplot as plt\n",
    "import pandas as pd\n",
    "from sklearn import decomposition\n",
    "from sklearn.preprocessing import scale\n",
    "from sklearn.decomposition import PCA\n",
    "import seaborn as sb\n",
    "\n",
    "\n",
    "def get_num_pixels(filepath):\n",
    "    width, height = Image.open(filepath).size\n",
    "    return width, height\n",
    "\n",
    "width_1_happy, height_1_happy = get_num_pixels(\"Images/subject01.happy.gif\")\n",
    "\n",
    "list_subjects = []\n",
    "\n",
    "for subject_num in range(1,16):\n",
    "    if subject_num < 10:\n",
    "        list_subjects.append(\"subject0\" + str(subject_num))\n",
    "    else:\n",
    "        list_subjects.append(\"subject\" + str(subject_num))\n",
    "        \n",
    "        \n",
    "def image_resize(list_subjects, left, right, top, bottom):\n",
    "    subject_labels = []\n",
    "    training_data = []\n",
    "    \n",
    "    for subject in list_subjects:\n",
    "        for image_path in glob.glob(\"Images/\" + subject + \"*\"):\n",
    "            #for each image, extract the label\n",
    "            search_string = subject + \".(.+?).gif\"\n",
    "            m = re.search(search_string, image_path)\n",
    "            if m:\n",
    "                emotion = m.group(1)\n",
    "                subject_labels.append(subject + \": \" + emotion)\n",
    "            \n",
    "            #for each image, trim off the specified edges & save to new folder\n",
    "            crop_image_path = \"Images_Cropped/\" + subject + \".\" + emotion + \".gif\"\n",
    "            orig_image = Image.open(image_path)\n",
    "            orig_image.crop((left, top, right, bottom)).save(crop_image_path)\n",
    "            \n",
    "            #for each cropped image, resize to 30x30\n",
    "            resize_image_path = \"Images_Resized/\" + subject + \".\" + emotion + \".gif\"\n",
    "            basewidth = 30\n",
    "            crop_image = Image.open(crop_image_path)\n",
    "            wpercent = (basewidth / float(crop_image.size[0]))\n",
    "            hsize = int((float(crop_image.size[1]) * float(wpercent)))\n",
    "            resize_image = crop_image.resize((basewidth, hsize), PIL.Image.ANTIALIAS)\n",
    "            resize_image.save(resize_image_path)\n",
    "            \n",
    "            #for each resized image, convert to 1x90 np array\n",
    "            image_frame = Image.open(resize_image_path)\n",
    "            np_frame = np.array(image_frame.getdata()) #gets pixel values\n",
    "            image_list = list(np_frame)\n",
    "            training_data.append(image_list)\n",
    "\n",
    "    return subject_labels, training_data \n",
    "\n",
    "first_list = list_subjects[0:5]\n",
    "\n",
    "second_list = list_subjects[5:7]\n",
    "second_list.append(list_subjects[13])\n",
    "\n",
    "third_list = list_subjects[7:10]\n",
    "third_list.append(list_subjects[12])\n",
    "third_list.append(list_subjects[14])\n",
    "\n",
    "fourth_list = list_subjects[10:12]\n",
    "\n",
    "temp_training_data = []\n",
    "temp_labels = []\n",
    "\n",
    "first_labels, first_data = image_resize(first_list, 54, 297, 0, 243)\n",
    "temp_labels.append(first_labels)\n",
    "temp_training_data.append(first_data)\n",
    "\n",
    "second_labels, second_data = image_resize(second_list, 0, 243, 0, 243)\n",
    "temp_labels.append(second_labels)\n",
    "temp_training_data.append(second_data)\n",
    "\n",
    "third_labels, third_data = image_resize(third_list, 43, 286, 0, 243)\n",
    "temp_labels.append(third_labels)\n",
    "temp_training_data.append(third_data)\n",
    "\n",
    "fourth_labels, fourth_data = image_resize(fourth_list, 69, 312, 0, 243)\n",
    "temp_labels.append(fourth_labels)\n",
    "temp_training_data.append(fourth_data)\n",
    "\n",
    "labels = []\n",
    "for sublist in temp_labels:\n",
    "    for item in sublist:\n",
    "        labels.append(item)\n",
    "\n",
    "training_data = []\n",
    "for sublist in temp_training_data:\n",
    "    for item in sublist:\n",
    "        training_data.append(item)\n",
    "\n",
    "training_data = np.array(training_data)\n",
    "\n",
    "normalized_training_data = preprocessing.normalize(training_data)\n",
    "\n",
    "n_samples = normalized_training_data.shape[0]\n",
    "n_features = normalized_training_data.shape[1]\n",
    "n_components = min(n_samples, n_features)\n",
    "\n",
    "covar_matrix = PCA(n_components) \n",
    "covar_matrix.fit(normalized_training_data)\n",
    "variance = covar_matrix.explained_variance_ratio_ #calculate variance ratios\n",
    "#print(variance)\n",
    "\n",
    "var=np.cumsum(np.round(covar_matrix.explained_variance_ratio_, decimals=3)*100)\n",
    "#var #cumulative sum of variance explained with [n] features\n",
    "#print(var)\n",
    "\n",
    "plt.ylabel('% Variance Explained')\n",
    "plt.xlabel('Components')\n",
    "plt.title('PCA Analysis')\n",
    "plt.ylim(30,100.5)\n",
    "\n",
    "plt.plot(var)\n",
    "\n",
    "print(\"The number of components we need to capture 99% of the energy is\", n_components)"
   ]
  },
  {
   "cell_type": "code",
   "execution_count": 8,
   "metadata": {},
   "outputs": [],
   "source": [
    "#(a.iv) (0.5 points) Plot the top 10 eigenfaces, i.e. the eigenvectors uk, k = 1, . . . , 10 obtained\n",
    "#by the PCA\n",
    "\n",
    "import PIL\n",
    "import glob #allows us to access every image in folder\n",
    "import re #allows us to extract emotion from file path\n",
    "import numpy as np\n",
    "\n",
    "from PIL import Image #allows us to resize images/get their initial pixel value\n",
    "from sklearn import preprocessing #allows us to normalize our data\n",
    "\n",
    "\n",
    "import matplotlib.pyplot as plt\n",
    "import pandas as pd\n",
    "from sklearn import decomposition\n",
    "from sklearn.preprocessing import scale\n",
    "from sklearn.decomposition import PCA\n",
    "import seaborn as sb\n",
    "\n",
    "\n",
    "def get_num_pixels(filepath):\n",
    "    width, height = Image.open(filepath).size\n",
    "    return width, height\n",
    "\n",
    "width_1_happy, height_1_happy = get_num_pixels(\"Images/subject01.happy.gif\")\n",
    "\n",
    "list_subjects = []\n",
    "\n",
    "for subject_num in range(1,16):\n",
    "    if subject_num < 10:\n",
    "        list_subjects.append(\"subject0\" + str(subject_num))\n",
    "    else:\n",
    "        list_subjects.append(\"subject\" + str(subject_num))\n",
    "        \n",
    "        \n",
    "def image_resize(list_subjects, left, right, top, bottom):\n",
    "    subject_labels = []\n",
    "    training_data = []\n",
    "    \n",
    "    for subject in list_subjects:\n",
    "        for image_path in glob.glob(\"Images/\" + subject + \"*\"):\n",
    "            #for each image, extract the label\n",
    "            search_string = subject + \".(.+?).gif\"\n",
    "            m = re.search(search_string, image_path)\n",
    "            if m:\n",
    "                emotion = m.group(1)\n",
    "                subject_labels.append(subject + \": \" + emotion)\n",
    "            \n",
    "            #for each image, trim off the specified edges & save to new folder\n",
    "            crop_image_path = \"Images_Cropped/\" + subject + \".\" + emotion + \".gif\"\n",
    "            orig_image = Image.open(image_path)\n",
    "            orig_image.crop((left, top, right, bottom)).save(crop_image_path)\n",
    "            \n",
    "            #for each cropped image, resize to 30x30\n",
    "            resize_image_path = \"Images_Resized/\" + subject + \".\" + emotion + \".gif\"\n",
    "            basewidth = 30\n",
    "            crop_image = Image.open(crop_image_path)\n",
    "            wpercent = (basewidth / float(crop_image.size[0]))\n",
    "            hsize = int((float(crop_image.size[1]) * float(wpercent)))\n",
    "            resize_image = crop_image.resize((basewidth, hsize), PIL.Image.ANTIALIAS)\n",
    "            resize_image.save(resize_image_path)\n",
    "            \n",
    "            #for each resized image, convert to 1x90 np array\n",
    "            image_frame = Image.open(resize_image_path)\n",
    "            np_frame = np.array(image_frame.getdata()) #gets pixel values\n",
    "            image_list = list(np_frame)\n",
    "            training_data.append(image_list)\n",
    "\n",
    "    return subject_labels, training_data \n",
    "\n",
    "first_list = list_subjects[0:5]\n",
    "\n",
    "second_list = list_subjects[5:7]\n",
    "second_list.append(list_subjects[13])\n",
    "\n",
    "third_list = list_subjects[7:10]\n",
    "third_list.append(list_subjects[12])\n",
    "third_list.append(list_subjects[14])\n",
    "\n",
    "fourth_list = list_subjects[10:12]\n",
    "\n",
    "temp_training_data = []\n",
    "temp_labels = []\n",
    "\n",
    "first_labels, first_data = image_resize(first_list, 54, 297, 0, 243)\n",
    "temp_labels.append(first_labels)\n",
    "temp_training_data.append(first_data)\n",
    "\n",
    "second_labels, second_data = image_resize(second_list, 0, 243, 0, 243)\n",
    "temp_labels.append(second_labels)\n",
    "temp_training_data.append(second_data)\n",
    "\n",
    "third_labels, third_data = image_resize(third_list, 43, 286, 0, 243)\n",
    "temp_labels.append(third_labels)\n",
    "temp_training_data.append(third_data)\n",
    "\n",
    "fourth_labels, fourth_data = image_resize(fourth_list, 69, 312, 0, 243)\n",
    "temp_labels.append(fourth_labels)\n",
    "temp_training_data.append(fourth_data)\n",
    "\n",
    "labels = []\n",
    "for sublist in temp_labels:\n",
    "    for item in sublist:\n",
    "        labels.append(item)\n",
    "\n",
    "training_data = []\n",
    "for sublist in temp_training_data:\n",
    "    for item in sublist:\n",
    "        training_data.append(item)\n",
    "\n",
    "training_data = np.array(training_data)\n",
    "\n",
    "normalized_training_data = preprocessing.normalize(training_data)\n",
    "\n",
    "n_samples = normalized_training_data.shape[0]\n",
    "n_features = normalized_training_data.shape[1]\n",
    "n_components = min(n_samples, n_features)\n",
    "\n",
    "covar_matrix = PCA(n_components)\n",
    "covar_matrix.fit(normalized_training_data)\n",
    "variance = covar_matrix.explained_variance_ratio_ #calculate variance ratios\n",
    "#print(variance)\n",
    "\n",
    "var=np.cumsum(np.round(covar_matrix.explained_variance_ratio_, decimals=3)*100)\n",
    "#var #cumulative sum of variance explained with [n] features\n",
    "#print(\"The following eigenvalues: \\n \\n\" , var)\n",
    "\n",
    "\n",
    "cov_mat=np.cov(normalized_training_data, rowvar=False)\n",
    "evals, evecs = np.linalg.eigh(cov_mat)\n",
    "idx = np.argsort(evals)[::-1]\n",
    "evecs = evecs[:,idx]"
   ]
  },
  {
   "cell_type": "code",
   "execution_count": 9,
   "metadata": {},
   "outputs": [
    {
     "name": "stdout",
     "output_type": "stream",
     "text": [
      "(900, 900)\n",
      "(900, 900)\n"
     ]
    }
   ],
   "source": [
    "print(evecs.shape)\n",
    "print(cov_mat.shape)"
   ]
  },
  {
   "cell_type": "code",
   "execution_count": 13,
   "metadata": {},
   "outputs": [
    {
     "name": "stdout",
     "output_type": "stream",
     "text": [
      "(900,)\n",
      "(900,)\n",
      "(900,)\n",
      "(900,)\n",
      "(900,)\n",
      "(900,)\n",
      "(900,)\n",
      "(900,)\n",
      "(900,)\n",
      "(900,)\n"
     ]
    },
    {
     "data": {
      "image/png": "[encoded data removed]",
      "text/plain": [
       "<Figure size 432x288 with 10 Axes>"
      ]
     },
     "metadata": {},
     "output_type": "display_data"
    }
   ],
   "source": [
    "def plot_eigenfaces(images, h, w, rows=2, cols=5):\n",
    "    plt.figure()\n",
    "    for i in range(rows*cols):\n",
    "        plt.subplot(rows, cols, i+1)\n",
    "        \n",
    "        print(images[:,i].shape)\n",
    "        plt.imshow(images[:,i].reshape((h,w)), cmap=plt.cm.gray)\n",
    "        plt.title(\"#{}\".format(i))\n",
    "        plt.xticks(())\n",
    "        plt.yticks(())\n",
    "\n",
    "evecs_fixed = (np.round(evecs, decimals=3)*100)\n",
    "\n",
    "plot_eigenfaces(evecs_fixed[:,:10], 30, 30)\n",
    "\n",
    "# print(\"\\n\\nThe following eigenvectors: \\n \\n\" , evecs_fixed)\n",
    "# #print(\"\\n\\nThe following eigenvalues: \\n \\n\" , evals)\n",
    "\n",
    "# plt.ylabel('Eigenvectors')\n",
    "# plt.xlabel('u_k')\n",
    "# plt.title('Eigenvectors Plot')\n",
    "# plt.xlim([0, 10])\n",
    "\n",
    "# evecs_plot = plt.plot(evecs_fixed)"
   ]
  },
  {
   "cell_type": "code",
   "execution_count": 35,
   "metadata": {},
   "outputs": [
    {
     "name": "stdout",
     "output_type": "stream",
     "text": [
      "(165, 900)\n",
      "(1, 900)\n",
      "(165, 900)\n"
     ]
    }
   ],
   "source": [
    "X = training_data\n",
    "X_mean = np.mean(X, axis=0).reshape(1,900)\n",
    "print(X.shape)\n",
    "print(X_mean.shape)\n",
    "print(numpy.matlib.repmat(X_mean,X.shape[0],1).shape)\n",
    "import numpy.matlib"
   ]
  },
  {
   "cell_type": "code",
   "execution_count": 37,
   "metadata": {},
   "outputs": [],
   "source": [
    "X_norm = X-numpy.matlib.repmat(X_mean, X.shape[0], 1)"
   ]
  },
  {
   "cell_type": "code",
   "execution_count": 47,
   "metadata": {},
   "outputs": [],
   "source": [
    "n_samples = X_norm.shape[0]\n",
    "n_features = X_norm.shape[1]\n",
    "#n_components = min(n_samples, n_features)\n",
    "\n",
    "#covar_matrix = PCA(n_components)\n",
    "#covar_matrix.fit(X_norm)\n",
    "#variance = covar_matrix.explained_variance_ratio_ #calculate variance ratios\n",
    "#print(variance)\n",
    "\n",
    "#var=np.cumsum(np.round(covar_matrix.explained_variance_ratio_, decimals=3)*100)\n",
    "#var #cumulative sum of variance explained with [n] features\n",
    "#print(\"The following eigenvalues: \\n \\n\" , var)\n",
    "\n",
    "\n",
    "cov_mat=np.cov(X_norm, rowvar=False)\n",
    "evals, evecs = np.linalg.eigh(cov_mat)\n",
    "idx = np.argsort(evals)[::-1]\n",
    "evecs = evecs[:,idx]\n",
    "#evecs_fixed = (np.round(evecs, decimals=3)*100)\n",
    "\n",
    "#plot_eigenfaces(evecs_fixed[:,:10], 30, 30)"
   ]
  },
  {
   "cell_type": "code",
   "execution_count": 50,
   "metadata": {},
   "outputs": [
    {
     "name": "stdout",
     "output_type": "stream",
     "text": [
      "(1, 900)\n",
      "(900, 50)\n",
      "(50,)\n",
      "(1, 900)\n"
     ]
    },
    {
     "data": {
      "text/plain": [
       "<matplotlib.image.AxesImage at 0x250fa857f60>"
      ]
     },
     "execution_count": 50,
     "metadata": {},
     "output_type": "execute_result"
    },
    {
     "data": {
      "image/png": "[encoded data removed]",
      "text/plain": [
       "<Figure size 432x288 with 1 Axes>"
      ]
     },
     "metadata": {
      "needs_background": "light"
     },
     "output_type": "display_data"
    }
   ],
   "source": [
    "x=np.asarray(Image.open(\"Images_Resized/subject01.happy.gif\")).reshape((1,900))\n",
    "x=x-X_mean.reshape((1,900))\n",
    "print(x.shape)\n",
    "U=evecs[:,:50]\n",
    "print(U.shape)\n",
    "C=np.squeeze(np.matmul(x,U))\n",
    "#print(C)\n",
    "print(C.shape)\n",
    "x_hat = X_mean\n",
    "for i in range(50):\n",
    "    x_hat += C[i]*U[:,i]\n",
    "#     print(U[:,i])\n",
    "#     print(C[i])\n",
    "#     print(C[i]*U[:,i])\n",
    "print(x_hat.shape)\n",
    "#print(x_hat)\n",
    "plt.imshow(np.reshape(x_hat, (30, 30)), cmap=plt.cm.gray)"
   ]
  },
  {
   "cell_type": "code",
   "execution_count": 54,
   "metadata": {},
   "outputs": [
    {
     "name": "stdout",
     "output_type": "stream",
     "text": [
      "(1, 900)\n",
      "(900, 50)\n",
      "(50,)\n",
      "(1, 900)\n"
     ]
    },
    {
     "data": {
      "text/plain": [
       "<matplotlib.image.AxesImage at 0x250fa7a9518>"
      ]
     },
     "execution_count": 54,
     "metadata": {},
     "output_type": "execute_result"
    },
    {
     "data": {
      "image/png": "[encoded data removed]",
      "text/plain": [
       "<Figure size 432x288 with 1 Axes>"
      ]
     },
     "metadata": {
      "needs_background": "light"
     },
     "output_type": "display_data"
    }
   ],
   "source": [
    "x=np.asarray(Image.open(\"Images_Resized/subject02.happy.gif\")).reshape((1,900))\n",
    "x=x-X_mean.reshape((1,900))\n",
    "print(x.shape)\n",
    "U=evecs[:,:50]\n",
    "print(U.shape)\n",
    "C=np.squeeze(np.matmul(x,U))\n",
    "#print(C)\n",
    "print(C.shape)\n",
    "x_hat = X_mean\n",
    "for i in range(50):\n",
    "    x_hat += C[i]*U[:,i]\n",
    "#     print(U[:,i])\n",
    "#     print(C[i])\n",
    "#     print(C[i]*U[:,i])\n",
    "print(x_hat.shape)\n",
    "#print(x_hat)\n",
    "plt.imshow(np.reshape(x_hat, (30, 30)), cmap=plt.cm.gray)"
   ]
  },
  {
   "cell_type": "code",
   "execution_count": 56,
   "metadata": {},
   "outputs": [
    {
     "name": "stdout",
     "output_type": "stream",
     "text": [
      "(1, 900)\n",
      "(900, 40)\n",
      "(40,)\n",
      "(1, 900)\n"
     ]
    },
    {
     "data": {
      "text/plain": [
       "<matplotlib.image.AxesImage at 0x250faa62080>"
      ]
     },
     "execution_count": 56,
     "metadata": {},
     "output_type": "execute_result"
    },
    {
     "data": {
      "image/png": "[encoded data removed]",
      "text/plain": [
       "<Figure size 432x288 with 1 Axes>"
      ]
     },
     "metadata": {
      "needs_background": "light"
     },
     "output_type": "display_data"
    }
   ],
   "source": [
    "x=np.asarray(Image.open(\"Images_Resized/subject01.happy.gif\")).reshape((1,900))\n",
    "x=x-X_mean.reshape((1,900))\n",
    "print(x.shape)\n",
    "U=evecs[:,:40]\n",
    "print(U.shape)\n",
    "C=np.squeeze(np.matmul(x,U))\n",
    "#print(C)\n",
    "print(C.shape)\n",
    "x_hat = X_mean\n",
    "for i in range(40):\n",
    "    x_hat += C[i]*U[:,i]\n",
    "#     print(U[:,i])\n",
    "#     print(C[i])\n",
    "#     print(C[i]*U[:,i])\n",
    "print(x_hat.shape)\n",
    "#print(x_hat)\n",
    "plt.imshow(np.reshape(x_hat, (30, 30)), cmap=plt.cm.gray)"
   ]
  },
  {
   "cell_type": "code",
   "execution_count": 57,
   "metadata": {},
   "outputs": [
    {
     "name": "stdout",
     "output_type": "stream",
     "text": [
      "(1, 900)\n",
      "(900, 30)\n",
      "(30,)\n",
      "(1, 900)\n"
     ]
    },
    {
     "data": {
      "text/plain": [
       "<matplotlib.image.AxesImage at 0x250fa9a4cf8>"
      ]
     },
     "execution_count": 57,
     "metadata": {},
     "output_type": "execute_result"
    },
    {
     "data": {
      "image/png": "[encoded data removed]",
      "text/plain": [
       "<Figure size 432x288 with 1 Axes>"
      ]
     },
     "metadata": {
      "needs_background": "light"
     },
     "output_type": "display_data"
    }
   ],
   "source": [
    "x=np.asarray(Image.open(\"Images_Resized/subject01.happy.gif\")).reshape((1,900))\n",
    "x=x-X_mean.reshape((1,900))\n",
    "print(x.shape)\n",
    "U=evecs[:,:30]\n",
    "print(U.shape)\n",
    "C=np.squeeze(np.matmul(x,U))\n",
    "#print(C)\n",
    "print(C.shape)\n",
    "x_hat = X_mean\n",
    "for i in range(30):\n",
    "    x_hat += C[i]*U[:,i]\n",
    "#     print(U[:,i])\n",
    "#     print(C[i])\n",
    "#     print(C[i]*U[:,i])\n",
    "print(x_hat.shape)\n",
    "#print(x_hat)\n",
    "plt.imshow(np.reshape(x_hat, (30, 30)), cmap=plt.cm.gray)"
   ]
  },
  {
   "cell_type": "code",
   "execution_count": 58,
   "metadata": {},
   "outputs": [
    {
     "name": "stdout",
     "output_type": "stream",
     "text": [
      "(1, 900)\n",
      "(900, 20)\n",
      "(20,)\n",
      "(1, 900)\n"
     ]
    },
    {
     "data": {
      "text/plain": [
       "<matplotlib.image.AxesImage at 0x250faa228d0>"
      ]
     },
     "execution_count": 58,
     "metadata": {},
     "output_type": "execute_result"
    },
    {
     "data": {
      "image/png": "[encoded data removed]",
      "text/plain": [
       "<Figure size 432x288 with 1 Axes>"
      ]
     },
     "metadata": {
      "needs_background": "light"
     },
     "output_type": "display_data"
    }
   ],
   "source": [
    "x=np.asarray(Image.open(\"Images_Resized/subject01.happy.gif\")).reshape((1,900))\n",
    "x=x-X_mean.reshape((1,900))\n",
    "print(x.shape)\n",
    "U=evecs[:,:20]\n",
    "print(U.shape)\n",
    "C=np.squeeze(np.matmul(x,U))\n",
    "#print(C)\n",
    "print(C.shape)\n",
    "x_hat = X_mean\n",
    "for i in range(20):\n",
    "    x_hat += C[i]*U[:,i]\n",
    "#     print(U[:,i])\n",
    "#     print(C[i])\n",
    "#     print(C[i]*U[:,i])\n",
    "print(x_hat.shape)\n",
    "#print(x_hat)\n",
    "plt.imshow(np.reshape(x_hat, (30, 30)), cmap=plt.cm.gray)"
   ]
  },
  {
   "cell_type": "code",
   "execution_count": 59,
   "metadata": {},
   "outputs": [
    {
     "name": "stdout",
     "output_type": "stream",
     "text": [
      "(1, 900)\n",
      "(900, 10)\n",
      "(10,)\n",
      "(1, 900)\n"
     ]
    },
    {
     "data": {
      "text/plain": [
       "<matplotlib.image.AxesImage at 0x250f70f5518>"
      ]
     },
     "execution_count": 59,
     "metadata": {},
     "output_type": "execute_result"
    },
    {
     "data": {
      "image/png": "[encoded data removed]",
      "text/plain": [
       "<Figure size 432x288 with 1 Axes>"
      ]
     },
     "metadata": {
      "needs_background": "light"
     },
     "output_type": "display_data"
    }
   ],
   "source": [
    "x=np.asarray(Image.open(\"Images_Resized/subject01.happy.gif\")).reshape((1,900))\n",
    "x=x-X_mean.reshape((1,900))\n",
    "print(x.shape)\n",
    "U=evecs[:,:10]\n",
    "print(U.shape)\n",
    "C=np.squeeze(np.matmul(x,U))\n",
    "#print(C)\n",
    "print(C.shape)\n",
    "x_hat = X_mean\n",
    "for i in range(10):\n",
    "    x_hat += C[i]*U[:,i]\n",
    "#     print(U[:,i])\n",
    "#     print(C[i])\n",
    "#     print(C[i]*U[:,i])\n",
    "print(x_hat.shape)\n",
    "#print(x_hat)\n",
    "plt.imshow(np.reshape(x_hat, (30, 30)), cmap=plt.cm.gray)"
   ]
  },
  {
   "cell_type": "code",
   "execution_count": 60,
   "metadata": {},
   "outputs": [
    {
     "name": "stdout",
     "output_type": "stream",
     "text": [
      "(1, 900)\n",
      "(900, 40)\n",
      "(40,)\n",
      "(1, 900)\n"
     ]
    },
    {
     "data": {
      "text/plain": [
       "<matplotlib.image.AxesImage at 0x25080003128>"
      ]
     },
     "execution_count": 60,
     "metadata": {},
     "output_type": "execute_result"
    },
    {
     "data": {
      "image/png": "[encoded data removed]",
      "text/plain": [
       "<Figure size 432x288 with 1 Axes>"
      ]
     },
     "metadata": {
      "needs_background": "light"
     },
     "output_type": "display_data"
    }
   ],
   "source": [
    "x=np.asarray(Image.open(\"Images_Resized/subject02.happy.gif\")).reshape((1,900))\n",
    "x=x-X_mean.reshape((1,900))\n",
    "print(x.shape)\n",
    "U=evecs[:,:40]\n",
    "print(U.shape)\n",
    "C=np.squeeze(np.matmul(x,U))\n",
    "#print(C)\n",
    "print(C.shape)\n",
    "x_hat = X_mean\n",
    "for i in range(40):\n",
    "    x_hat += C[i]*U[:,i]\n",
    "#     print(U[:,i])\n",
    "#     print(C[i])\n",
    "#     print(C[i]*U[:,i])\n",
    "print(x_hat.shape)\n",
    "#print(x_hat)\n",
    "plt.imshow(np.reshape(x_hat, (30, 30)), cmap=plt.cm.gray)"
   ]
  },
  {
   "cell_type": "code",
   "execution_count": 61,
   "metadata": {},
   "outputs": [
    {
     "name": "stdout",
     "output_type": "stream",
     "text": [
      "(1, 900)\n",
      "(900, 30)\n",
      "(30,)\n",
      "(1, 900)\n"
     ]
    },
    {
     "data": {
      "text/plain": [
       "<matplotlib.image.AxesImage at 0x25080058cf8>"
      ]
     },
     "execution_count": 61,
     "metadata": {},
     "output_type": "execute_result"
    },
    {
     "data": {
      "image/png": "[encoded data removed]",
      "text/plain": [
       "<Figure size 432x288 with 1 Axes>"
      ]
     },
     "metadata": {
      "needs_background": "light"
     },
     "output_type": "display_data"
    }
   ],
   "source": [
    "x=np.asarray(Image.open(\"Images_Resized/subject02.happy.gif\")).reshape((1,900))\n",
    "x=x-X_mean.reshape((1,900))\n",
    "print(x.shape)\n",
    "U=evecs[:,:30]\n",
    "print(U.shape)\n",
    "C=np.squeeze(np.matmul(x,U))\n",
    "#print(C)\n",
    "print(C.shape)\n",
    "x_hat = X_mean\n",
    "for i in range(30):\n",
    "    x_hat += C[i]*U[:,i]\n",
    "#     print(U[:,i])\n",
    "#     print(C[i])\n",
    "#     print(C[i]*U[:,i])\n",
    "print(x_hat.shape)\n",
    "#print(x_hat)\n",
    "plt.imshow(np.reshape(x_hat, (30, 30)), cmap=plt.cm.gray)"
   ]
  },
  {
   "cell_type": "code",
   "execution_count": 62,
   "metadata": {},
   "outputs": [
    {
     "name": "stdout",
     "output_type": "stream",
     "text": [
      "(1, 900)\n",
      "(900, 20)\n",
      "(20,)\n",
      "(1, 900)\n"
     ]
    },
    {
     "data": {
      "text/plain": [
       "<matplotlib.image.AxesImage at 0x250800b4908>"
      ]
     },
     "execution_count": 62,
     "metadata": {},
     "output_type": "execute_result"
    },
    {
     "data": {
      "image/png": "[encoded data removed]",
      "text/plain": [
       "<Figure size 432x288 with 1 Axes>"
      ]
     },
     "metadata": {
      "needs_background": "light"
     },
     "output_type": "display_data"
    }
   ],
   "source": [
    "x=np.asarray(Image.open(\"Images_Resized/subject02.happy.gif\")).reshape((1,900))\n",
    "x=x-X_mean.reshape((1,900))\n",
    "print(x.shape)\n",
    "U=evecs[:,:20]\n",
    "print(U.shape)\n",
    "C=np.squeeze(np.matmul(x,U))\n",
    "#print(C)\n",
    "print(C.shape)\n",
    "x_hat = X_mean\n",
    "for i in range(20):\n",
    "    x_hat += C[i]*U[:,i]\n",
    "#     print(U[:,i])\n",
    "#     print(C[i])\n",
    "#     print(C[i]*U[:,i])\n",
    "print(x_hat.shape)\n",
    "#print(x_hat)\n",
    "plt.imshow(np.reshape(x_hat, (30, 30)), cmap=plt.cm.gray)"
   ]
  },
  {
   "cell_type": "code",
   "execution_count": 63,
   "metadata": {},
   "outputs": [
    {
     "name": "stdout",
     "output_type": "stream",
     "text": [
      "(1, 900)\n",
      "(900, 10)\n",
      "(10,)\n",
      "(1, 900)\n"
     ]
    },
    {
     "data": {
      "text/plain": [
       "<matplotlib.image.AxesImage at 0x25080271518>"
      ]
     },
     "execution_count": 63,
     "metadata": {},
     "output_type": "execute_result"
    },
    {
     "data": {
      "image/png": "[encoded data removed]",
      "text/plain": [
       "<Figure size 432x288 with 1 Axes>"
      ]
     },
     "metadata": {
      "needs_background": "light"
     },
     "output_type": "display_data"
    }
   ],
   "source": [
    "x=np.asarray(Image.open(\"Images_Resized/subject02.happy.gif\")).reshape((1,900))\n",
    "x=x-X_mean.reshape((1,900))\n",
    "print(x.shape)\n",
    "U=evecs[:,:10]\n",
    "print(U.shape)\n",
    "C=np.squeeze(np.matmul(x,U))\n",
    "#print(C)\n",
    "print(C.shape)\n",
    "x_hat = X_mean\n",
    "for i in range(10):\n",
    "    x_hat += C[i]*U[:,i]\n",
    "#     print(U[:,i])\n",
    "#     print(C[i])\n",
    "#     print(C[i]*U[:,i])\n",
    "print(x_hat.shape)\n",
    "#print(x_hat)\n",
    "plt.imshow(np.reshape(x_hat, (30, 30)), cmap=plt.cm.gray)"
   ]
  },
  {
   "cell_type": "code",
   "execution_count": 64,
   "metadata": {},
   "outputs": [
    {
     "name": "stdout",
     "output_type": "stream",
     "text": [
      "(1, 900)\n",
      "(900, 1)\n",
      "()\n"
     ]
    },
    {
     "ename": "IndexError",
     "evalue": "too many indices for array",
     "output_type": "error",
     "traceback": [
      "\u001b[1;31m---------------------------------------------------------------------------\u001b[0m",
      "\u001b[1;31mIndexError\u001b[0m                                Traceback (most recent call last)",
      "\u001b[1;32m<ipython-input-64-73ba7a06d8f0>\u001b[0m in \u001b[0;36m<module>\u001b[1;34m\u001b[0m\n\u001b[0;32m      9\u001b[0m \u001b[0mx_hat\u001b[0m \u001b[1;33m=\u001b[0m \u001b[0mX_mean\u001b[0m\u001b[1;33m\u001b[0m\u001b[1;33m\u001b[0m\u001b[0m\n\u001b[0;32m     10\u001b[0m \u001b[1;32mfor\u001b[0m \u001b[0mi\u001b[0m \u001b[1;32min\u001b[0m \u001b[0mrange\u001b[0m\u001b[1;33m(\u001b[0m\u001b[1;36m1\u001b[0m\u001b[1;33m)\u001b[0m\u001b[1;33m:\u001b[0m\u001b[1;33m\u001b[0m\u001b[1;33m\u001b[0m\u001b[0m\n\u001b[1;32m---> 11\u001b[1;33m     \u001b[0mx_hat\u001b[0m \u001b[1;33m+=\u001b[0m \u001b[0mC\u001b[0m\u001b[1;33m[\u001b[0m\u001b[0mi\u001b[0m\u001b[1;33m]\u001b[0m\u001b[1;33m*\u001b[0m\u001b[0mU\u001b[0m\u001b[1;33m[\u001b[0m\u001b[1;33m:\u001b[0m\u001b[1;33m,\u001b[0m\u001b[0mi\u001b[0m\u001b[1;33m]\u001b[0m\u001b[1;33m\u001b[0m\u001b[1;33m\u001b[0m\u001b[0m\n\u001b[0m\u001b[0;32m     12\u001b[0m \u001b[1;31m#     print(U[:,i])\u001b[0m\u001b[1;33m\u001b[0m\u001b[1;33m\u001b[0m\u001b[1;33m\u001b[0m\u001b[0m\n\u001b[0;32m     13\u001b[0m \u001b[1;31m#     print(C[i])\u001b[0m\u001b[1;33m\u001b[0m\u001b[1;33m\u001b[0m\u001b[1;33m\u001b[0m\u001b[0m\n",
      "\u001b[1;31mIndexError\u001b[0m: too many indices for array"
     ]
    }
   ],
   "source": [
    "x=np.asarray(Image.open(\"Images_Resized/subject01.happy.gif\")).reshape((1,900))\n",
    "x=x-X_mean.reshape((1,900))\n",
    "print(x.shape)\n",
    "U=evecs[:,:1]\n",
    "print(U.shape)\n",
    "C=np.squeeze(np.matmul(x,U))\n",
    "#print(C)\n",
    "print(C.shape)\n",
    "x_hat = X_mean\n",
    "for i in range(1):\n",
    "    x_hat += C[i]*U[:,i]\n",
    "#     print(U[:,i])\n",
    "#     print(C[i])\n",
    "#     print(C[i]*U[:,i])\n",
    "print(x_hat.shape)\n",
    "#print(x_hat)\n",
    "plt.imshow(np.reshape(x_hat, (30, 30)), cmap=plt.cm.gray)"
   ]
  },
  {
   "cell_type": "code",
   "execution_count": 65,
   "metadata": {},
   "outputs": [
    {
     "name": "stdout",
     "output_type": "stream",
     "text": [
      "(1, 900)\n",
      "(900, 1)\n",
      "()\n"
     ]
    },
    {
     "ename": "IndexError",
     "evalue": "too many indices for array",
     "output_type": "error",
     "traceback": [
      "\u001b[1;31m---------------------------------------------------------------------------\u001b[0m",
      "\u001b[1;31mIndexError\u001b[0m                                Traceback (most recent call last)",
      "\u001b[1;32m<ipython-input-65-d200f3c7b0d0>\u001b[0m in \u001b[0;36m<module>\u001b[1;34m\u001b[0m\n\u001b[0;32m      9\u001b[0m \u001b[0mx_hat\u001b[0m \u001b[1;33m=\u001b[0m \u001b[0mX_mean\u001b[0m\u001b[1;33m\u001b[0m\u001b[1;33m\u001b[0m\u001b[0m\n\u001b[0;32m     10\u001b[0m \u001b[1;32mfor\u001b[0m \u001b[0mi\u001b[0m \u001b[1;32min\u001b[0m \u001b[0mrange\u001b[0m\u001b[1;33m(\u001b[0m\u001b[1;36m1\u001b[0m\u001b[1;33m)\u001b[0m\u001b[1;33m:\u001b[0m\u001b[1;33m\u001b[0m\u001b[1;33m\u001b[0m\u001b[0m\n\u001b[1;32m---> 11\u001b[1;33m     \u001b[0mx_hat\u001b[0m \u001b[1;33m+=\u001b[0m \u001b[0mC\u001b[0m\u001b[1;33m[\u001b[0m\u001b[0mi\u001b[0m\u001b[1;33m]\u001b[0m\u001b[1;33m*\u001b[0m\u001b[0mU\u001b[0m\u001b[1;33m[\u001b[0m\u001b[1;33m:\u001b[0m\u001b[1;33m,\u001b[0m\u001b[0mi\u001b[0m\u001b[1;33m]\u001b[0m\u001b[1;33m\u001b[0m\u001b[1;33m\u001b[0m\u001b[0m\n\u001b[0m\u001b[0;32m     12\u001b[0m \u001b[1;31m#     print(U[:,i])\u001b[0m\u001b[1;33m\u001b[0m\u001b[1;33m\u001b[0m\u001b[1;33m\u001b[0m\u001b[0m\n\u001b[0;32m     13\u001b[0m \u001b[1;31m#     print(C[i])\u001b[0m\u001b[1;33m\u001b[0m\u001b[1;33m\u001b[0m\u001b[1;33m\u001b[0m\u001b[0m\n",
      "\u001b[1;31mIndexError\u001b[0m: too many indices for array"
     ]
    }
   ],
   "source": [
    "x=np.asarray(Image.open(\"Images_Resized/subject02.happy.gif\")).reshape((1,900))\n",
    "x=x-X_mean.reshape((1,900))\n",
    "print(x.shape)\n",
    "U=evecs[:,:1]\n",
    "print(U.shape)\n",
    "C=np.squeeze(np.matmul(x,U))\n",
    "#print(C)\n",
    "print(C.shape)\n",
    "x_hat = X_mean\n",
    "for i in range(1):\n",
    "    x_hat += C[i]*U[:,i]\n",
    "#     print(U[:,i])\n",
    "#     print(C[i])\n",
    "#     print(C[i]*U[:,i])\n",
    "print(x_hat.shape)\n",
    "#print(x_hat)\n",
    "plt.imshow(np.reshape(x_hat, (30, 30)), cmap=plt.cm.gray)"
   ]
  },
  {
   "cell_type": "code",
   "execution_count": 82,
   "metadata": {},
   "outputs": [
    {
     "name": "stdout",
     "output_type": "stream",
     "text": [
      "\n",
      "\n",
      "The following eigenvectors: \n",
      " \n",
      " [[  0.    1.   -0.8 ...   0.    0.    0. ]\n",
      " [  0.    1.1  -0.7 ... -61.1   2.9  -6.1]\n",
      " [  0.    1.   -0.7 ...  15.5 -57.9 -14.6]\n",
      " ...\n",
      " [  3.6  -5.9   1.5 ...   3.   -3.4  -0.8]\n",
      " [  3.6  -6.4   0.9 ...  -4.8  -2.5  -2.7]\n",
      " [  3.8  -5.6   0.  ...   0.6   2.7  -2.2]]\n"
     ]
    }
   ],
   "source": [
    "#(a.v) (0.5 points) Select a couple of images from the data. Use the first k eigenfaces as a\n",
    "#basis to reconstruct the images. Visualize the reconstructed images using 1, 10, 20, 30, 40, 50\n",
    "#components. How many components do we need to achieve a visually good result?\n",
    "#Hint: Reconstruction of an input vector x based on the eigenvectors u1, . . . , uK is given by the\n",
    "#following expression ˆx = x0 +, where x is the projection of the input image to the k\n",
    "#the eigenvector and x0 is the mean value of all vectors.\n",
    "\n",
    "\n",
    "#========================================num_components = 1 with subject 4\n",
    "\n",
    "width_1_happy, height_1_happy = get_num_pixels(\"Images/subject04.happy.gif\")\n",
    "\n",
    "normalized_training_data = preprocessing.normalize(training_data)\n",
    "\n",
    "n_samples = normalized_training_data.shape[0]\n",
    "n_features = normalized_training_data.shape[1]\n",
    "n_components = min(n_samples, n_features)\n",
    "\n",
    "covar_matrix = PCA(n_components = 1)\n",
    "covar_matrix.fit(normalized_training_data)\n",
    "variance = covar_matrix.explained_variance_ratio_ #calculate variance ratios\n",
    "#print(variance)\n",
    "\n",
    "var=np.cumsum(np.round(covar_matrix.explained_variance_ratio_, decimals=3)*100)\n",
    "#var #cumulative sum of variance explained with [n] features\n",
    "#print(\"The following eigenvalues: \\n \\n\" , var)\n",
    "\n",
    "\n",
    "cov_mat=np.cov(normalized_training_data, rowvar=False)\n",
    "evals, evecs = np.linalg.eigh(cov_mat)\n",
    "idx = np.argsort(evals)[::-1]\n",
    "evecs = evecs[:,idx]\n",
    "\n",
    "evecs_fixed = (np.round(evecs, decimals=3)*100)\n",
    "\n",
    "print(\"\\n\\nThe following eigenvectors: \\n \\n\" , evecs_fixed)\n",
    "#print(\"\\n\\nThe following eigenvalues: \\n \\n\" , evals)"
   ]
  },
  {
   "cell_type": "code",
   "execution_count": 81,
   "metadata": {},
   "outputs": [
    {
     "name": "stdout",
     "output_type": "stream",
     "text": [
      "\n",
      "\n",
      "The following eigenvectors: \n",
      " \n",
      " [[  0.    1.   -0.8 ...   0.    0.    0. ]\n",
      " [  0.    1.1  -0.7 ... -61.1   2.9  -6.1]\n",
      " [  0.    1.   -0.7 ...  15.5 -57.9 -14.6]\n",
      " ...\n",
      " [  3.6  -5.9   1.5 ...   3.   -3.4  -0.8]\n",
      " [  3.6  -6.4   0.9 ...  -4.8  -2.5  -2.7]\n",
      " [  3.8  -5.6   0.  ...   0.6   2.7  -2.2]]\n"
     ]
    }
   ],
   "source": [
    "#a.v cont. ========================================num_components = 10 with subject 4\n",
    "width_1_happy, height_1_happy = get_num_pixels(\"Images/subject04.happy.gif\")\n",
    "normalized_training_data = preprocessing.normalize(training_data)\n",
    "\n",
    "covar_matrix = PCA(n_components = 10) \n",
    "covar_matrix.fit(normalized_training_data)\n",
    "variance = covar_matrix.explained_variance_ratio_ #calculate variance ratios\n",
    "#print(variance)\n",
    "\n",
    "var=np.cumsum(np.round(covar_matrix.explained_variance_ratio_, decimals=3)*100)\n",
    "#var #cumulative sum of variance explained with [n] features\n",
    "#print(\"The following eigenvalues: \\n \\n\" , var)\n",
    "\n",
    "\n",
    "cov_mat=np.cov(normalized_training_data, rowvar=False)\n",
    "evals, evecs = np.linalg.eigh(cov_mat)\n",
    "idx = np.argsort(evals)[::-1]\n",
    "evecs = evecs[:,idx]\n",
    "\n",
    "evecs_fixed = (np.round(evecs, decimals=3)*100)\n",
    "\n",
    "print(\"\\n\\nThe following eigenvectors: \\n \\n\" , evecs_fixed)\n",
    "#print(\"\\n\\nThe following eigenvalues: \\n \\n\" , evals)\n"
   ]
  },
  {
   "cell_type": "code",
   "execution_count": 78,
   "metadata": {},
   "outputs": [
    {
     "name": "stdout",
     "output_type": "stream",
     "text": [
      "\n",
      "\n",
      "The following eigenvectors: \n",
      " \n",
      " [[  0.    1.   -0.8 ...   0.    0.    0. ]\n",
      " [  0.    1.1  -0.7 ... -61.1   2.9  -6.1]\n",
      " [  0.    1.   -0.7 ...  15.5 -57.9 -14.6]\n",
      " ...\n",
      " [  3.6  -5.9   1.5 ...   3.   -3.4  -0.8]\n",
      " [  3.6  -6.4   0.9 ...  -4.8  -2.5  -2.7]\n",
      " [  3.8  -5.6   0.  ...   0.6   2.7  -2.2]]\n"
     ]
    }
   ],
   "source": [
    "#a.v cont. ========================================num_components = 20 with subject 4\n",
    "width_1_happy, height_1_happy = get_num_pixels(\"Images/subject04.happy.gif\")\n",
    "normalized_training_data = preprocessing.normalize(training_data)\n",
    "\n",
    "covar_matrix = PCA(n_components = 20)\n",
    "covar_matrix.fit(normalized_training_data)\n",
    "variance = covar_matrix.explained_variance_ratio_ #calculate variance ratios\n",
    "#print(variance)\n",
    "\n",
    "var=np.cumsum(np.round(covar_matrix.explained_variance_ratio_, decimals=3)*100)\n",
    "#var #cumulative sum of variance explained with [n] features\n",
    "#print(\"The following eigenvalues: \\n \\n\" , var)\n",
    "\n",
    "\n",
    "cov_mat=np.cov(normalized_training_data, rowvar=False)\n",
    "evals, evecs = np.linalg.eigh(cov_mat)\n",
    "idx = np.argsort(evals)[::-1]\n",
    "evecs = evecs[:,idx]\n",
    "\n",
    "evecs_fixed = (np.round(evecs, decimals=3)*100)\n",
    "\n",
    "print(\"\\n\\nThe following eigenvectors: \\n \\n\" , evecs_fixed)\n",
    "#print(\"\\n\\nThe following eigenvalues: \\n \\n\" , evals)"
   ]
  },
  {
   "cell_type": "code",
   "execution_count": 77,
   "metadata": {},
   "outputs": [
    {
     "name": "stdout",
     "output_type": "stream",
     "text": [
      "\n",
      "\n",
      "The following eigenvectors: \n",
      " \n",
      " [[  0.    1.   -0.8 ...   0.    0.    0. ]\n",
      " [  0.    1.1  -0.7 ... -61.1   2.9  -6.1]\n",
      " [  0.    1.   -0.7 ...  15.5 -57.9 -14.6]\n",
      " ...\n",
      " [  3.6  -5.9   1.5 ...   3.   -3.4  -0.8]\n",
      " [  3.6  -6.4   0.9 ...  -4.8  -2.5  -2.7]\n",
      " [  3.8  -5.6   0.  ...   0.6   2.7  -2.2]]\n"
     ]
    }
   ],
   "source": [
    "#a.v cont. ========================================num_components = 30 with subject 4\n",
    "width_1_happy, height_1_happy = get_num_pixels(\"Images/subject04.happy.gif\")\n",
    "normalized_training_data = preprocessing.normalize(training_data)\n",
    "\n",
    "covar_matrix = PCA(n_components = 30)\n",
    "covar_matrix.fit(normalized_training_data)\n",
    "variance = covar_matrix.explained_variance_ratio_ #calculate variance ratios\n",
    "#print(variance)\n",
    "\n",
    "var=np.cumsum(np.round(covar_matrix.explained_variance_ratio_, decimals=3)*100)\n",
    "#var #cumulative sum of variance explained with [n] features\n",
    "#print(\"The following eigenvalues: \\n \\n\" , var)\n",
    "\n",
    "\n",
    "cov_mat=np.cov(normalized_training_data, rowvar=False)\n",
    "evals, evecs = np.linalg.eigh(cov_mat)\n",
    "idx = np.argsort(evals)[::-1]\n",
    "evecs = evecs[:,idx]\n",
    "\n",
    "evecs_fixed = (np.round(evecs, decimals=3)*100)\n",
    "\n",
    "print(\"\\n\\nThe following eigenvectors: \\n \\n\" , evecs_fixed)\n",
    "#print(\"\\n\\nThe following eigenvalues: \\n \\n\" , evals)"
   ]
  },
  {
   "cell_type": "code",
   "execution_count": 79,
   "metadata": {},
   "outputs": [
    {
     "name": "stdout",
     "output_type": "stream",
     "text": [
      "\n",
      "\n",
      "The following eigenvectors: \n",
      " \n",
      " [[  0.    1.   -0.8 ...   0.    0.    0. ]\n",
      " [  0.    1.1  -0.7 ... -61.1   2.9  -6.1]\n",
      " [  0.    1.   -0.7 ...  15.5 -57.9 -14.6]\n",
      " ...\n",
      " [  3.6  -5.9   1.5 ...   3.   -3.4  -0.8]\n",
      " [  3.6  -6.4   0.9 ...  -4.8  -2.5  -2.7]\n",
      " [  3.8  -5.6   0.  ...   0.6   2.7  -2.2]]\n"
     ]
    }
   ],
   "source": [
    "#a.v cont. ========================================num_components = 40 with subject 4\n",
    "width_1_happy, height_1_happy = get_num_pixels(\"Images/subject04.happy.gif\")\n",
    "normalized_training_data = preprocessing.normalize(training_data)\n",
    "\n",
    "covar_matrix = PCA(n_components = 40) \n",
    "covar_matrix.fit(normalized_training_data)\n",
    "variance = covar_matrix.explained_variance_ratio_ #calculate variance ratios\n",
    "#print(variance)\n",
    "\n",
    "var=np.cumsum(np.round(covar_matrix.explained_variance_ratio_, decimals=3)*100)\n",
    "#var #cumulative sum of variance explained with [n] features\n",
    "#print(\"The following eigenvalues: \\n \\n\" , var)\n",
    "\n",
    "\n",
    "cov_mat=np.cov(normalized_training_data, rowvar=False)\n",
    "evals, evecs = np.linalg.eigh(cov_mat)\n",
    "idx = np.argsort(evals)[::-1]\n",
    "evecs = evecs[:,idx]\n",
    "\n",
    "evecs_fixed = (np.round(evecs, decimals=3)*100)\n",
    "\n",
    "print(\"\\n\\nThe following eigenvectors: \\n \\n\" , evecs_fixed)\n",
    "#print(\"\\n\\nThe following eigenvalues: \\n \\n\" , evals)\n"
   ]
  },
  {
   "cell_type": "code",
   "execution_count": 80,
   "metadata": {},
   "outputs": [
    {
     "name": "stdout",
     "output_type": "stream",
     "text": [
      "\n",
      "\n",
      "The following eigenvectors: \n",
      " \n",
      " [[  0.    1.   -0.8 ...   0.    0.    0. ]\n",
      " [  0.    1.1  -0.7 ... -61.1   2.9  -6.1]\n",
      " [  0.    1.   -0.7 ...  15.5 -57.9 -14.6]\n",
      " ...\n",
      " [  3.6  -5.9   1.5 ...   3.   -3.4  -0.8]\n",
      " [  3.6  -6.4   0.9 ...  -4.8  -2.5  -2.7]\n",
      " [  3.8  -5.6   0.  ...   0.6   2.7  -2.2]]\n"
     ]
    }
   ],
   "source": [
    "#a.v cont. ========================================num_components = 50 with subject 4\n",
    "width_1_happy, height_1_happy = get_num_pixels(\"Images/subject04.happy.gif\")\n",
    "normalized_training_data = preprocessing.normalize(training_data)\n",
    "\n",
    "covar_matrix = PCA(n_components = 50) \n",
    "covar_matrix.fit(normalized_training_data)\n",
    "variance = covar_matrix.explained_variance_ratio_ #calculate variance ratios\n",
    "#print(variance)\n",
    "\n",
    "var=np.cumsum(np.round(covar_matrix.explained_variance_ratio_, decimals=3)*100)\n",
    "#var #cumulative sum of variance explained with [n] features\n",
    "#print(\"The following eigenvalues: \\n \\n\" , var)\n",
    "\n",
    "\n",
    "cov_mat=np.cov(normalized_training_data, rowvar=False)\n",
    "evals, evecs = np.linalg.eigh(cov_mat)\n",
    "idx = np.argsort(evals)[::-1]\n",
    "evecs = evecs[:,idx]\n",
    "\n",
    "evecs_fixed = (np.round(evecs, decimals=3)*100)\n",
    "\n",
    "print(\"\\n\\nThe following eigenvectors: \\n \\n\" , evecs_fixed)\n",
    "#print(\"\\n\\nThe following eigenvalues: \\n \\n\" , evals)\n"
   ]
  },
  {
   "cell_type": "code",
   "execution_count": 89,
   "metadata": {},
   "outputs": [
    {
     "name": "stdout",
     "output_type": "stream",
     "text": [
      "\n",
      "\n",
      "The following eigenvectors: \n",
      " \n",
      " [[  0.    1.   -0.8 ...   0.    0.    0. ]\n",
      " [  0.    1.1  -0.7 ... -61.1   2.9  -6.1]\n",
      " [  0.    1.   -0.7 ...  15.5 -57.9 -14.6]\n",
      " ...\n",
      " [  3.6  -5.9   1.5 ...   3.   -3.4  -0.8]\n",
      " [  3.6  -6.4   0.9 ...  -4.8  -2.5  -2.7]\n",
      " [  3.8  -5.6   0.  ...   0.6   2.7  -2.2]]\n"
     ]
    }
   ],
   "source": [
    "#a.v cont. ========================================num_components = 1 with subject 5\n",
    "width_1_happy, height_1_happy = get_num_pixels(\"Images/subject05.happy.gif\")\n",
    "normalized_training_data = preprocessing.normalize(training_data)\n",
    "\n",
    "covar_matrix = PCA(n_components = 1) \n",
    "covar_matrix.fit(normalized_training_data)\n",
    "variance = covar_matrix.explained_variance_ratio_ #calculate variance ratios\n",
    "#print(variance)\n",
    "\n",
    "var=np.cumsum(np.round(covar_matrix.explained_variance_ratio_, decimals=3)*100)\n",
    "#var #cumulative sum of variance explained with [n] features\n",
    "#print(\"The following eigenvalues: \\n \\n\" , var)\n",
    "\n",
    "\n",
    "cov_mat=np.cov(normalized_training_data, rowvar=False)\n",
    "evals, evecs = np.linalg.eigh(cov_mat)\n",
    "idx = np.argsort(evals)[::-1]\n",
    "evecs = evecs[:,idx]\n",
    "\n",
    "evecs_fixed = (np.round(evecs, decimals=3)*100)\n",
    "\n",
    "print(\"\\n\\nThe following eigenvectors: \\n \\n\" , evecs_fixed)\n",
    "#print(\"\\n\\nThe following eigenvalues: \\n \\n\" , evals)\n"
   ]
  },
  {
   "cell_type": "code",
   "execution_count": 88,
   "metadata": {},
   "outputs": [
    {
     "name": "stdout",
     "output_type": "stream",
     "text": [
      "\n",
      "\n",
      "The following eigenvectors: \n",
      " \n",
      " [[  0.    1.   -0.8 ...   0.    0.    0. ]\n",
      " [  0.    1.1  -0.7 ... -61.1   2.9  -6.1]\n",
      " [  0.    1.   -0.7 ...  15.5 -57.9 -14.6]\n",
      " ...\n",
      " [  3.6  -5.9   1.5 ...   3.   -3.4  -0.8]\n",
      " [  3.6  -6.4   0.9 ...  -4.8  -2.5  -2.7]\n",
      " [  3.8  -5.6   0.  ...   0.6   2.7  -2.2]]\n"
     ]
    }
   ],
   "source": [
    "#a.v cont. ========================================num_components = 10 with subject 5\n",
    "width_1_happy, height_1_happy = get_num_pixels(\"Images/subject05.happy.gif\")\n",
    "normalized_training_data = preprocessing.normalize(training_data)\n",
    "\n",
    "covar_matrix = PCA(n_components = 10) \n",
    "covar_matrix.fit(normalized_training_data)\n",
    "variance = covar_matrix.explained_variance_ratio_ #calculate variance ratios\n",
    "#print(variance)\n",
    "\n",
    "var=np.cumsum(np.round(covar_matrix.explained_variance_ratio_, decimals=3)*100)\n",
    "#var #cumulative sum of variance explained with [n] features\n",
    "#print(\"The following eigenvalues: \\n \\n\" , var)\n",
    "\n",
    "\n",
    "cov_mat=np.cov(normalized_training_data, rowvar=False)\n",
    "evals, evecs = np.linalg.eigh(cov_mat)\n",
    "idx = np.argsort(evals)[::-1]\n",
    "evecs = evecs[:,idx]\n",
    "\n",
    "evecs_fixed = (np.round(evecs, decimals=3)*100)\n",
    "\n",
    "print(\"\\n\\nThe following eigenvectors: \\n \\n\" , evecs_fixed)\n",
    "#print(\"\\n\\nThe following eigenvalues: \\n \\n\" , evals)\n"
   ]
  },
  {
   "cell_type": "code",
   "execution_count": 83,
   "metadata": {},
   "outputs": [
    {
     "name": "stdout",
     "output_type": "stream",
     "text": [
      "\n",
      "\n",
      "The following eigenvectors: \n",
      " \n",
      " [[  0.    1.   -0.8 ...   0.    0.    0. ]\n",
      " [  0.    1.1  -0.7 ... -61.1   2.9  -6.1]\n",
      " [  0.    1.   -0.7 ...  15.5 -57.9 -14.6]\n",
      " ...\n",
      " [  3.6  -5.9   1.5 ...   3.   -3.4  -0.8]\n",
      " [  3.6  -6.4   0.9 ...  -4.8  -2.5  -2.7]\n",
      " [  3.8  -5.6   0.  ...   0.6   2.7  -2.2]]\n"
     ]
    }
   ],
   "source": [
    "#a.v cont. ========================================num_components = 20 with subject 5\n",
    "width_1_happy, height_1_happy = get_num_pixels(\"Images/subject05.happy.gif\")\n",
    "normalized_training_data = preprocessing.normalize(training_data)\n",
    "\n",
    "covar_matrix = PCA(n_components = 20) \n",
    "covar_matrix.fit(normalized_training_data)\n",
    "variance = covar_matrix.explained_variance_ratio_ #calculate variance ratios\n",
    "#print(variance)\n",
    "\n",
    "var=np.cumsum(np.round(covar_matrix.explained_variance_ratio_, decimals=3)*100)\n",
    "#var #cumulative sum of variance explained with [n] features\n",
    "#print(\"The following eigenvalues: \\n \\n\" , var)\n",
    "\n",
    "\n",
    "cov_mat=np.cov(normalized_training_data, rowvar=False)\n",
    "evals, evecs = np.linalg.eigh(cov_mat)\n",
    "idx = np.argsort(evals)[::-1]\n",
    "evecs = evecs[:,idx]\n",
    "\n",
    "evecs_fixed = (np.round(evecs, decimals=3)*100)\n",
    "\n",
    "print(\"\\n\\nThe following eigenvectors: \\n \\n\" , evecs_fixed)\n",
    "#print(\"\\n\\nThe following eigenvalues: \\n \\n\" , evals)\n"
   ]
  },
  {
   "cell_type": "code",
   "execution_count": 87,
   "metadata": {},
   "outputs": [
    {
     "name": "stdout",
     "output_type": "stream",
     "text": [
      "\n",
      "\n",
      "The following eigenvectors: \n",
      " \n",
      " [[  0.    1.   -0.8 ...   0.    0.    0. ]\n",
      " [  0.    1.1  -0.7 ... -61.1   2.9  -6.1]\n",
      " [  0.    1.   -0.7 ...  15.5 -57.9 -14.6]\n",
      " ...\n",
      " [  3.6  -5.9   1.5 ...   3.   -3.4  -0.8]\n",
      " [  3.6  -6.4   0.9 ...  -4.8  -2.5  -2.7]\n",
      " [  3.8  -5.6   0.  ...   0.6   2.7  -2.2]]\n"
     ]
    }
   ],
   "source": [
    "#a.v cont. ========================================num_components = 30 with subject 5\n",
    "width_1_happy, height_1_happy = get_num_pixels(\"Images/subject05.happy.gif\")\n",
    "normalized_training_data = preprocessing.normalize(training_data)\n",
    "\n",
    "covar_matrix = PCA(n_components = 30) \n",
    "covar_matrix.fit(normalized_training_data)\n",
    "variance = covar_matrix.explained_variance_ratio_ #calculate variance ratios\n",
    "#print(variance)\n",
    "\n",
    "var=np.cumsum(np.round(covar_matrix.explained_variance_ratio_, decimals=3)*100)\n",
    "#var #cumulative sum of variance explained with [n] features\n",
    "#print(\"The following eigenvalues: \\n \\n\" , var)\n",
    "\n",
    "\n",
    "cov_mat=np.cov(normalized_training_data, rowvar=False)\n",
    "evals, evecs = np.linalg.eigh(cov_mat)\n",
    "idx = np.argsort(evals)[::-1]\n",
    "evecs = evecs[:,idx]\n",
    "\n",
    "evecs_fixed = (np.round(evecs, decimals=3)*100)\n",
    "\n",
    "print(\"\\n\\nThe following eigenvectors: \\n \\n\" , evecs_fixed)\n",
    "#print(\"\\n\\nThe following eigenvalues: \\n \\n\" , evals)\n"
   ]
  },
  {
   "cell_type": "code",
   "execution_count": 86,
   "metadata": {},
   "outputs": [
    {
     "name": "stdout",
     "output_type": "stream",
     "text": [
      "\n",
      "\n",
      "The following eigenvectors: \n",
      " \n",
      " [[  0.    1.   -0.8 ...   0.    0.    0. ]\n",
      " [  0.    1.1  -0.7 ... -61.1   2.9  -6.1]\n",
      " [  0.    1.   -0.7 ...  15.5 -57.9 -14.6]\n",
      " ...\n",
      " [  3.6  -5.9   1.5 ...   3.   -3.4  -0.8]\n",
      " [  3.6  -6.4   0.9 ...  -4.8  -2.5  -2.7]\n",
      " [  3.8  -5.6   0.  ...   0.6   2.7  -2.2]]\n"
     ]
    }
   ],
   "source": [
    "#a.v cont. ========================================num_components = 40 with subject 5\n",
    "width_1_happy, height_1_happy = get_num_pixels(\"Images/subject05.happy.gif\")\n",
    "normalized_training_data = preprocessing.normalize(training_data)\n",
    "\n",
    "covar_matrix = PCA(n_components = 40) \n",
    "covar_matrix.fit(normalized_training_data)\n",
    "variance = covar_matrix.explained_variance_ratio_ #calculate variance ratios\n",
    "#print(variance)\n",
    "\n",
    "var=np.cumsum(np.round(covar_matrix.explained_variance_ratio_, decimals=3)*100)\n",
    "#var #cumulative sum of variance explained with [n] features\n",
    "#print(\"The following eigenvalues: \\n \\n\" , var)\n",
    "\n",
    "\n",
    "cov_mat=np.cov(normalized_training_data, rowvar=False)\n",
    "evals, evecs = np.linalg.eigh(cov_mat)\n",
    "idx = np.argsort(evals)[::-1]\n",
    "evecs = evecs[:,idx]\n",
    "\n",
    "evecs_fixed = (np.round(evecs, decimals=3)*100)\n",
    "\n",
    "print(\"\\n\\nThe following eigenvectors: \\n \\n\" , evecs_fixed)\n",
    "#print(\"\\n\\nThe following eigenvalues: \\n \\n\" , evals)\n"
   ]
  },
  {
   "cell_type": "code",
   "execution_count": 85,
   "metadata": {},
   "outputs": [
    {
     "name": "stdout",
     "output_type": "stream",
     "text": [
      "\n",
      "\n",
      "The following eigenvectors: \n",
      " \n",
      " [[  0.    1.   -0.8 ...   0.    0.    0. ]\n",
      " [  0.    1.1  -0.7 ... -61.1   2.9  -6.1]\n",
      " [  0.    1.   -0.7 ...  15.5 -57.9 -14.6]\n",
      " ...\n",
      " [  3.6  -5.9   1.5 ...   3.   -3.4  -0.8]\n",
      " [  3.6  -6.4   0.9 ...  -4.8  -2.5  -2.7]\n",
      " [  3.8  -5.6   0.  ...   0.6   2.7  -2.2]]\n"
     ]
    }
   ],
   "source": [
    "#a.v cont. ========================================num_components = 50 with subject 5\n",
    "width_1_happy, height_1_happy = get_num_pixels(\"Images/subject05.happy.gif\")\n",
    "normalized_training_data = preprocessing.normalize(training_data)\n",
    "\n",
    "covar_matrix = PCA(n_components = 50) \n",
    "covar_matrix.fit(normalized_training_data)\n",
    "variance = covar_matrix.explained_variance_ratio_ #calculate variance ratios\n",
    "#print(variance)\n",
    "\n",
    "var=np.cumsum(np.round(covar_matrix.explained_variance_ratio_, decimals=3)*100)\n",
    "#var #cumulative sum of variance explained with [n] features\n",
    "#print(\"The following eigenvalues: \\n \\n\" , var)\n",
    "\n",
    "\n",
    "cov_mat=np.cov(normalized_training_data, rowvar=False)\n",
    "evals, evecs = np.linalg.eigh(cov_mat)\n",
    "idx = np.argsort(evals)[::-1]\n",
    "evecs = evecs[:,idx]\n",
    "\n",
    "evecs_fixed = (np.round(evecs, decimals=3)*100)\n",
    "\n",
    "print(\"\\n\\nThe following eigenvectors: \\n \\n\" , evecs_fixed)\n",
    "#print(\"\\n\\nThe following eigenvalues: \\n \\n\" , evals)\n"
   ]
  }
 ],
 "metadata": {
  "kernelspec": {
   "display_name": "Python 3",
   "language": "python",
   "name": "python3"
  },
  "language_info": {
   "codemirror_mode": {
    "name": "ipython",
    "version": 3
   },
   "file_extension": ".py",
   "mimetype": "text/x-python",
   "name": "python",
   "nbconvert_exporter": "python",
   "pygments_lexer": "ipython3",
   "version": "3.7.1"
  }
 },
 "nbformat": 4,
 "nbformat_minor": 2
}
