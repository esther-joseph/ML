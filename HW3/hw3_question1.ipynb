{
 "cells": [
  {
   "cell_type": "code",
   "execution_count": 3,
   "metadata": {},
   "outputs": [
    {
     "name": "stdout",
     "output_type": "stream",
     "text": [
      "95.18\n"
     ]
    },
    {
     "data": {
      "text/plain": [
       "(array([238.,  20.,  13.,  15.,  13.,  14.,  14.,  14.,  15.,  14.,  14.,\n",
       "         13.,  14.,  14.,  14.,  13.,  14.]),\n",
       " array([  0.        ,  13.29411765,  26.58823529,  39.88235294,\n",
       "         53.17647059,  66.47058824,  79.76470588,  93.05882353,\n",
       "        106.35294118, 119.64705882, 132.94117647, 146.23529412,\n",
       "        159.52941176, 172.82352941, 186.11764706, 199.41176471,\n",
       "        212.70588235, 226.        ]),\n",
       " <a list of 17 Patch objects>)"
      ]
     },
     "execution_count": 3,
     "metadata": {},
     "output_type": "execute_result"
    },
    {
     "data": {
      "image/png": "[encoded data removed]",
      "text/plain": [
       "<Figure size 432x288 with 1 Axes>"
      ]
     },
     "metadata": {
      "needs_background": "light"
     },
     "output_type": "display_data"
    }
   ],
   "source": [
    "#1. X: x-axis spatial coordinate of the forest: 1 to 9\n",
    "#2. Y: y-axis spatial coordinate of the forest: 2 to 9\n",
    "#3. month: month of the year: 1 to 12 to denote \"jan\" to \"dec\"\n",
    "#4. day: day of the week: 1 to 7 to denote \"mon\" to \"sun\"\n",
    "#5. FFMC: FFMC index from the FWI system\n",
    "#6. DMC: DMC index from the FWI system\n",
    "#7. DC: DC index from the FWI system\n",
    "#8. ISI: ISI index from the FWI system\n",
    "#9. temp: temperature in Celsius degrees\n",
    "#10. RH: relative humidity\n",
    "#11. wind: wind speed in km/h\n",
    "#12. rain: outside rain in mm/m2\n",
    "#13. area: the burned area of the forest (this is the outcome variable)\n",
    "#----------------------------------------------------------------------\n",
    "#Question (a) (1 point) Data exploration: Plot a histogram of the outcome variable (column 13). What do you observe?\n",
    "\n",
    "import pandas as pd\n",
    "import matplotlib.pyplot as plt\n",
    "\n",
    "forest_fire_data = pd.read_csv(\"hw3_question1.csv\", header=None, names = ['X', \n",
    "                                                                          'Y',\n",
    "                                                                          'month',\n",
    "                                                                          'day',\n",
    "                                                                          'FFMC',\n",
    "                                                                          'DMC',\n",
    "                                                                          'DC',\n",
    "                                                                          'ISI',\n",
    "                                                                          'temp',\n",
    "                                                                          'RH',\n",
    "                                                                          'wind',\n",
    "                                                                          'rain',\n",
    "                                                                          'area'])\n",
    "new_header = forest_fire_data.iloc[0] #grab the first row for the header\n",
    "forest_fire_data = forest_fire_data[1:] #take the data less the header row\n",
    "forest_fire_data.columns = new_header #set the header row as the df header\n",
    "#print(forest_fire_data)\n",
    "\n",
    "#print(forest_fire_data['area'])\n",
    "hist_area_list = []\n",
    "for x in forest_fire_data['area']:\n",
    "    hist_area_list.append(x)\n",
    "    \n",
    "#hist_area = forest_fire_data.hist(column='area')\n",
    "#forest_fire_data['area'].hist() \n",
    "\"\"\"ask about this one\"\"\"\n",
    "\n",
    "#plt.hist(forest_fire_data['area'], bins=20)  \n",
    "\n",
    "plt.title('Histogram of areas for forest fires')\n",
    "#fix thick black line issue, realized they were all the numbers crunched up\n",
    "plt.xlabel('  0     10  20      30      40      50      60      70      80      90      100')#portray true area values\n",
    "print(max(hist_area_list))#the maximum possible value in the dataset, arrange the range in line above\n",
    "plt.hist(hist_area_list, bins=17)"
   ]
  },
  {
   "cell_type": "code",
   "execution_count": null,
   "metadata": {},
   "outputs": [],
   "source": [
    "#plt.title('Histogram of outcomes for affected areas for forest fires')\n",
    "#affected_areas_df = forest_fire_data.loc[forest_fire_data['area'] == '0']\n",
    "#plt.hist(affected_areas_df, bins = 20)"
   ]
  },
  {
   "cell_type": "code",
   "execution_count": 167,
   "metadata": {},
   "outputs": [
    {
     "name": "stderr",
     "output_type": "stream",
     "text": [
      "C:\\Users\\Esther Joseph\\Anaconda3\\lib\\site-packages\\sklearn\\linear_model\\logistic.py:433: FutureWarning: Default solver will be changed to 'lbfgs' in 0.22. Specify a solver to silence this warning.\n",
      "  FutureWarning)\n",
      "C:\\Users\\Esther Joseph\\Anaconda3\\lib\\site-packages\\sklearn\\linear_model\\logistic.py:460: FutureWarning: Default multi_class will be changed to 'auto' in 0.22. Specify the multi_class option to silence this warning.\n",
      "  \"this warning.\", FutureWarning)\n",
      "C:\\Users\\Esther Joseph\\Anaconda3\\lib\\site-packages\\sklearn\\linear_model\\logistic.py:433: FutureWarning: Default solver will be changed to 'lbfgs' in 0.22. Specify a solver to silence this warning.\n",
      "  FutureWarning)\n",
      "C:\\Users\\Esther Joseph\\Anaconda3\\lib\\site-packages\\sklearn\\linear_model\\logistic.py:460: FutureWarning: Default multi_class will be changed to 'auto' in 0.22. Specify the multi_class option to silence this warning.\n",
      "  \"this warning.\", FutureWarning)\n",
      "C:\\Users\\Esther Joseph\\Anaconda3\\lib\\site-packages\\sklearn\\linear_model\\logistic.py:433: FutureWarning: Default solver will be changed to 'lbfgs' in 0.22. Specify a solver to silence this warning.\n",
      "  FutureWarning)\n",
      "C:\\Users\\Esther Joseph\\Anaconda3\\lib\\site-packages\\sklearn\\linear_model\\logistic.py:460: FutureWarning: Default multi_class will be changed to 'auto' in 0.22. Specify the multi_class option to silence this warning.\n",
      "  \"this warning.\", FutureWarning)\n",
      "C:\\Users\\Esther Joseph\\Anaconda3\\lib\\site-packages\\sklearn\\linear_model\\logistic.py:433: FutureWarning: Default solver will be changed to 'lbfgs' in 0.22. Specify a solver to silence this warning.\n",
      "  FutureWarning)\n",
      "C:\\Users\\Esther Joseph\\Anaconda3\\lib\\site-packages\\sklearn\\linear_model\\logistic.py:460: FutureWarning: Default multi_class will be changed to 'auto' in 0.22. Specify the multi_class option to silence this warning.\n",
      "  \"this warning.\", FutureWarning)\n",
      "C:\\Users\\Esther Joseph\\Anaconda3\\lib\\site-packages\\sklearn\\linear_model\\logistic.py:433: FutureWarning: Default solver will be changed to 'lbfgs' in 0.22. Specify a solver to silence this warning.\n",
      "  FutureWarning)\n",
      "C:\\Users\\Esther Joseph\\Anaconda3\\lib\\site-packages\\sklearn\\linear_model\\logistic.py:460: FutureWarning: Default multi_class will be changed to 'auto' in 0.22. Specify the multi_class option to silence this warning.\n",
      "  \"this warning.\", FutureWarning)\n",
      "C:\\Users\\Esther Joseph\\Anaconda3\\lib\\site-packages\\sklearn\\linear_model\\logistic.py:433: FutureWarning: Default solver will be changed to 'lbfgs' in 0.22. Specify a solver to silence this warning.\n",
      "  FutureWarning)\n",
      "C:\\Users\\Esther Joseph\\Anaconda3\\lib\\site-packages\\sklearn\\linear_model\\logistic.py:460: FutureWarning: Default multi_class will be changed to 'auto' in 0.22. Specify the multi_class option to silence this warning.\n",
      "  \"this warning.\", FutureWarning)\n",
      "C:\\Users\\Esther Joseph\\Anaconda3\\lib\\site-packages\\sklearn\\linear_model\\logistic.py:433: FutureWarning: Default solver will be changed to 'lbfgs' in 0.22. Specify a solver to silence this warning.\n",
      "  FutureWarning)\n",
      "C:\\Users\\Esther Joseph\\Anaconda3\\lib\\site-packages\\sklearn\\linear_model\\logistic.py:460: FutureWarning: Default multi_class will be changed to 'auto' in 0.22. Specify the multi_class option to silence this warning.\n",
      "  \"this warning.\", FutureWarning)\n",
      "C:\\Users\\Esther Joseph\\Anaconda3\\lib\\site-packages\\sklearn\\linear_model\\logistic.py:433: FutureWarning: Default solver will be changed to 'lbfgs' in 0.22. Specify a solver to silence this warning.\n",
      "  FutureWarning)\n",
      "C:\\Users\\Esther Joseph\\Anaconda3\\lib\\site-packages\\sklearn\\linear_model\\logistic.py:460: FutureWarning: Default multi_class will be changed to 'auto' in 0.22. Specify the multi_class option to silence this warning.\n",
      "  \"this warning.\", FutureWarning)\n",
      "C:\\Users\\Esther Joseph\\Anaconda3\\lib\\site-packages\\sklearn\\linear_model\\logistic.py:433: FutureWarning: Default solver will be changed to 'lbfgs' in 0.22. Specify a solver to silence this warning.\n",
      "  FutureWarning)\n",
      "C:\\Users\\Esther Joseph\\Anaconda3\\lib\\site-packages\\sklearn\\linear_model\\logistic.py:460: FutureWarning: Default multi_class will be changed to 'auto' in 0.22. Specify the multi_class option to silence this warning.\n",
      "  \"this warning.\", FutureWarning)\n",
      "C:\\Users\\Esther Joseph\\Anaconda3\\lib\\site-packages\\sklearn\\linear_model\\logistic.py:433: FutureWarning: Default solver will be changed to 'lbfgs' in 0.22. Specify a solver to silence this warning.\n",
      "  FutureWarning)\n",
      "C:\\Users\\Esther Joseph\\Anaconda3\\lib\\site-packages\\sklearn\\linear_model\\logistic.py:460: FutureWarning: Default multi_class will be changed to 'auto' in 0.22. Specify the multi_class option to silence this warning.\n",
      "  \"this warning.\", FutureWarning)\n"
     ]
    },
    {
     "name": "stdout",
     "output_type": "stream",
     "text": [
      "Accuracies of logistic regression classifier on test set:\n",
      "0.36\n",
      "0.51\n",
      "0.6\n",
      "0.29\n",
      "0.69\n",
      "0.27\n",
      "0.6\n",
      "0.56\n",
      "0.87\n",
      "0.51\n",
      "Average Accuracy of logistic regression classifier on test set:\n",
      "0.52\n"
     ]
    }
   ],
   "source": [
    "'''question 1b)'''#----------------------------------------------------------------------\n",
    "import random\n",
    "from sklearn.linear_model import LogisticRegression\n",
    "from sklearn.model_selection import train_test_split\n",
    "from sklearn.metrics import classification_report\n",
    "from sklearn import metrics\n",
    "from statistics import mean \n",
    "\n",
    "affected_areas_df = forest_fire_data.loc[forest_fire_data['area'] == '0']\n",
    "#prints dataframe of affected areas in data\n",
    "non_affected_areas_df = forest_fire_data.loc[forest_fire_data['area'] != '0'] \n",
    "#prints dataframe of non-affected areas in data\n",
    "\n",
    "#10-fold cross validation for part b still\n",
    "\n",
    "X_train = forest_fire_data.iloc[:, 0:12] #dataset without outcome\n",
    "Y_train = forest_fire_data['area'] #dataset that's just the outcome\n",
    "\n",
    "#Shuffle the dataset randomly.\n",
    "forest_fire_data.sample(frac=1)\n",
    "\n",
    "#Split the dataset into k groups, k = 10\n",
    "X_train_1 = X_train.iloc[1:46] \n",
    "Y_train_1 = Y_train.iloc[1:46]\n",
    "\n",
    "X_train_2 = X_train.iloc[47:92]\n",
    "Y_train_2 = Y_train.iloc[47:92]\n",
    "\n",
    "X_train_3 = X_train.iloc[93:138]\n",
    "Y_train_3 = Y_train.iloc[93:138]\n",
    "\n",
    "X_train_4 = X_train.iloc[139:184]\n",
    "Y_train_4 = Y_train.iloc[139:184]\n",
    "\n",
    "X_train_5 = X_train.iloc[185:230]\n",
    "Y_train_5 = Y_train.iloc[185:230]\n",
    "\n",
    "X_train_6 = X_train.iloc[231:276]\n",
    "Y_train_6 = Y_train.iloc[231:276]\n",
    "\n",
    "X_train_7 = X_train.iloc[277:322]\n",
    "Y_train_7 = Y_train.iloc[277:322]\n",
    "\n",
    "X_train_8 = X_train.iloc[323:368]\n",
    "Y_train_8 = Y_train.iloc[323:368]\n",
    "\n",
    "X_train_9 = X_train.iloc[369:414]\n",
    "Y_train_9 = Y_train.iloc[369:414]\n",
    "\n",
    "X_train_10 = X_train.iloc[415:460]\n",
    "Y_train_10 = Y_train.iloc[415:460]\n",
    "\n",
    "list_X = [X_train_1, X_train_2, X_train_3, X_train_4, X_train_5, X_train_6, X_train_7, X_train_8, X_train_9, X_train_10]\n",
    "list_Y = [Y_train_1, Y_train_2, Y_train_3, Y_train_4, Y_train_5, Y_train_6, Y_train_7, Y_train_8, Y_train_9, Y_train_10]\n",
    "\n",
    "cross_valid_accuracies = []\n",
    "E = [] #vector to store accuracies in\n",
    "\n",
    "#For each unique group: \n",
    "for x in range(10):#Take the group as a hold out or test data set\n",
    "    X_test_s = random.choice(list_X)\n",
    "    Y_test_s = random.choice(list_Y)\n",
    "\n",
    "    #Take the remaining groups as a training data set\n",
    "    X_train_s = X_train.drop(X_test_s.index)\n",
    "    #print(train_dataset.shape)\n",
    "    \n",
    "    #Fit a model on the training set and evaluate it on the test set\n",
    "  \n",
    "    #logmodel = LogisticRegression()\n",
    "    #logmodel.fit(X_train,Y_train)\n",
    "    #predictions = logmodel.predict(X_test_s)\n",
    "\n",
    "    #print(classification_report(Y_test_s,predictions))\n",
    "    \n",
    "    logreg = LogisticRegression()\n",
    "    logreg.fit(X_train, Y_train)\n",
    "    \n",
    "    y_pred = logreg.predict(X_test_s)\n",
    "    #print('Accuracy of logistic regression classifier on test set: {:.2f}'.format(logreg.score(X_test_s, Y_test_s)))\n",
    "    \n",
    "    cross_valid_accuracies.append(logreg.score(X_test_s, Y_test_s))\n",
    "    \n",
    "    #Retain the evaluation score\n",
    "print('Accuracies of logistic regression classifier on test set:')\n",
    "for x in cross_valid_accuracies:\n",
    "    print(str(round(x, 2)))\n",
    "print('Average Accuracy of logistic regression classifier on test set:')\n",
    "print(str(round(mean(cross_valid_accuracies), 2)))\n",
    "    #Summarize the skill of the model using the sample of model evaluation scores"
   ]
  },
  {
   "cell_type": "code",
   "execution_count": 165,
   "metadata": {},
   "outputs": [
    {
     "data": {
      "image/png": "[encoded data removed]",
      "text/plain": [
       "<Figure size 432x288 with 1 Axes>"
      ]
     },
     "metadata": {
      "needs_background": "light"
     },
     "output_type": "display_data"
    }
   ],
   "source": [
    "#Maximum Likelihood Estimation: The goal of this problem is to model the number of\n",
    "#tickets sold in a train station between August 25th, 2012 to September 25th, 2014.\n",
    "#Inside \\Homework 3\" folder on Piazza you can find the file including the corresponding data\n",
    "#(named \\hw3 question2.csv\"). Column 1 refers to the day/time of the year, and Column 2\n",
    "#refers to the number of tickets sold during that corresponding hour. The file includes around\n",
    "#18K columns, which correspond to the hours of the data.\n",
    "\n",
    "'''Question 2 (i)'''# (0.5 points) Data exploration: Plot the number of tickets sold over these two years. The\n",
    "#x-axis should represent the hours elapsed since August 25th, 2012. The y-axis should represent\n",
    "#the number of tickets sold over each hour. What do you observe?\n",
    "import matplotlib.pyplot as plt\n",
    "\n",
    "train_ticket_data = pd.read_csv(\"hw3_question2.csv\", header=None)\n",
    "new_header = train_ticket_data.iloc[0] #grab the first row for the header\n",
    "train_ticket_data = train_ticket_data[1:] #take the data less the header row\n",
    "train_ticket_data.columns = new_header #set the header row as the df header\n",
    "\n",
    "train_ticket_data['Datetime'] = pd.to_datetime(train_ticket_data['Datetime'])\n",
    "train_ticket_data = train_ticket_data.set_index('Datetime')\n",
    "train_ticket_data['day'] = train_ticket_data.index.date\n",
    "train_ticket_data['time'] = train_ticket_data.index.time\n",
    "train_ticket_data['hours'] = train_ticket_data.index.hour\n",
    "\n",
    "hours_list = []\n",
    "for ele in train_ticket_data['hours']:\n",
    "    hours_list.append(int(ele))\n",
    "\n",
    "count_list = []\n",
    "for ele_y in train_ticket_data['Count']:\n",
    "    count_list.append(int(ele_y))\n",
    "\n",
    "plt.scatter(count_list,hours_list,color='blue')# from 0 to 24 on the x-axis represents the 24 hour time\n",
    "plt.title('Train Ticket Sales At Each Hour Of The Day')\n",
    "plt.xlabel('Number of tickets sold')\n",
    "plt.ylabel('Hour in 24-hour day')\n",
    "plt.show()"
   ]
  },
  {
   "cell_type": "code",
   "execution_count": 172,
   "metadata": {
    "scrolled": true
   },
   "outputs": [
    {
     "data": {
      "image/png": "[encoded data removed]",
      "text/plain": [
       "<Figure size 432x288 with 1 Axes>"
      ]
     },
     "metadata": {
      "needs_background": "light"
     },
     "output_type": "display_data"
    },
    {
     "name": "stdout",
     "output_type": "stream",
     "text": [
      "Value for lambda for the poisson distribution from Aug 24th to Sept 24th for number of tickets per hour:\n",
      "3.79\n"
     ]
    }
   ],
   "source": [
    "'''Question 2(ii.a)'''# Statistical model of first month of data: For this question we will only consider the\n",
    "#data that correspond to the first month of the study (i.e., August 25th, 2012 to September\n",
    "#24th, 2012). Let {x1; : : : ; x_N} be the number of hourly tickets of the first month, where in our case N = 744.\n",
    "\n",
    "import matplotlib.pyplot as plt\n",
    "\n",
    "train_ticket_data = pd.read_csv(\"hw3_question2.csv\", header=None)\n",
    "new_header = train_ticket_data.iloc[0] #grab the first row for the header\n",
    "train_ticket_data = train_ticket_data[1:] #take the data less the header row\n",
    "train_ticket_data.columns = new_header #set the header row as the df header\n",
    "\n",
    "train_ticket_data['Datetime'] = pd.to_datetime(train_ticket_data['Datetime'])\n",
    "train_ticket_data = train_ticket_data.set_index('Datetime')\n",
    "train_ticket_data['hours'] = train_ticket_data.index.hour\n",
    "\n",
    "hours_list = []\n",
    "for ele in train_ticket_data['hours'].iloc[0:744]: #cutting off # of data samples at 744 == Aug 24th - Sept 24th\n",
    "    hours_list.append(int(ele))\n",
    "\n",
    "count_list = []\n",
    "for ele_y in train_ticket_data['Count'].iloc[0:744]:\n",
    "    count_list.append(int(ele_y))\n",
    "\n",
    "plt.scatter(count_list,hours_list,color='blue')# from 0 to 24 on the x-axis represents the 24 hour time\n",
    "plt.title('August 24th - September 24th Poisson Distribution')\n",
    "plt.xlabel('Number of tickets sold')\n",
    "plt.ylabel('Hour in 24-hour day')\n",
    "plt.show()\n",
    "\n",
    "\n",
    "'''Question 2(ii.b-d) on separate paper provided'''\n",
    "\n",
    "'''Question 2(ii.e)'''# (0.5 points) Based on the above mathematical expression, find the maximum likelihood\n",
    "#estimation of lambda from the given data {x1; : : : ; x_N}.\n",
    "\n",
    "#sum of data samples as sum of n=1...N for x_N\n",
    "summation_of_xN = sum(count_list)\n",
    "#acting as the value for N, as lambda = sum of n=1...N for x_N / N\n",
    "N = 744 #since this is taking the range from Aug 24th to Sept 24th\n",
    "\n",
    "lambda_poisson =  summation_of_xN / N\n",
    "print(\"Value for lambda for the poisson distribution from Aug 24th to Sept 24th for number of tickets per hour:\")\n",
    "print(round(lambda_poisson,2))"
   ]
  },
  {
   "cell_type": "code",
   "execution_count": null,
   "metadata": {},
   "outputs": [],
   "source": []
  }
 ],
 "metadata": {
  "kernelspec": {
   "display_name": "Python 3",
   "language": "python",
   "name": "python3"
  },
  "language_info": {
   "codemirror_mode": {
    "name": "ipython",
    "version": 3
   },
   "file_extension": ".py",
   "mimetype": "text/x-python",
   "name": "python",
   "nbconvert_exporter": "python",
   "pygments_lexer": "ipython3",
   "version": "3.7.1"
  }
 },
 "nbformat": 4,
 "nbformat_minor": 2
}
